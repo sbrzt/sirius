{
 "cells": [
  {
   "cell_type": "code",
   "execution_count": 107,
   "id": "0adc596a",
   "metadata": {},
   "outputs": [],
   "source": [
    "import rdflib\n",
    "from rdflib.plugins.sparql import prepareQuery\n",
    "from tabulate import tabulate"
   ]
  },
  {
   "cell_type": "code",
   "execution_count": 108,
   "id": "c7a6cfa8",
   "metadata": {},
   "outputs": [],
   "source": [
    "filename = \"ABox.ttl\""
   ]
  },
  {
   "cell_type": "code",
   "execution_count": 109,
   "id": "a54b6be8",
   "metadata": {},
   "outputs": [],
   "source": [
    "text1 = '''CQ_3.1\n",
    "Return the total number of items in \"Battistero degli Ariani\", the assets it is composed of, the number of items in each asset, the percentage of total value for each asset, the percentage of total value per item for each asset.\n",
    "'''\n",
    "\n",
    "query1 = '''\n",
    "PREFIX tbox: <http://purl.org/sirius/ontology/development/03/schema/>\n",
    "PREFIX abox: <http://purl.org/sirius/ontology/development/03/data/>\n",
    "\n",
    "SELECT ?asset_part ?quantity ?perc_per_part ?perc_per_item ?total_items\n",
    "WHERE {\n",
    "  ?asset a tbox:HeritageAsset ;\n",
    "         tbox:hasPart ?asset_part .\n",
    "  ?value_assessment tbox:assignsValueTo ?asset_part ;\n",
    "                   tbox:hasQuantity ?quantity ;\n",
    "                   tbox:hasPercentageOfValue ?perc_per_part .\n",
    "  BIND(?perc_per_part / ?quantity AS ?perc_per_item)\n",
    "\n",
    "  {\n",
    "    SELECT ?asset_part (SUM(?quantity) AS ?total_items)\n",
    "    WHERE {\n",
    "      ?asset a tbox:HeritageAsset ;\n",
    "             tbox:hasPart ?asset_part .\n",
    "      ?value_assessment tbox:assignsValueTo ?asset_part ;\n",
    "                       tbox:hasQuantity ?quantity .\n",
    "    }\n",
    "    GROUP BY ?asset_part\n",
    "  }\n",
    "  \n",
    "}\n",
    "\n",
    "\n",
    "'''"
   ]
  },
  {
   "cell_type": "code",
   "execution_count": 110,
   "id": "ce168037",
   "metadata": {},
   "outputs": [],
   "source": [
    "text2 = '''CQ_3.2\n",
    "Return the assets which have been assigned \"Artistic\" contributing values and risks which exist at the \"building\" layer of enclosure.\n",
    "'''\n",
    "\n",
    "query2 = '''\n",
    "PREFIX tbox: <http://purl.org/sirius/ontology/development/03/schema/>\n",
    "PREFIX abox: <http://purl.org/sirius/ontology/development/03/data/>\n",
    "\n",
    "SELECT DISTINCT ?asset_part ?perc_value\n",
    "WHERE {\n",
    "    ?asset a tbox:HeritageAsset ;\n",
    "            tbox:hasPart ?asset_part .\n",
    "    ?value_assessment tbox:assignsValueTo ?asset_part ;\n",
    "                        tbox:assignsValue ?value ;\n",
    "                        tbox:hasPercentageOfValue ?perc_value .\n",
    "    ?value tbox:hasContributingValueType tbox:artistic .\n",
    "    ?risk_assessment tbox:assignsRiskTo ?asset ;\n",
    "                        tbox:assignsRisk ?risk .\n",
    "    ?risk tbox:existsWithin tbox:building .\n",
    "}\n",
    "'''"
   ]
  },
  {
   "cell_type": "code",
   "execution_count": 111,
   "id": "e3da2431",
   "metadata": {},
   "outputs": [],
   "source": [
    "text3 = '''CQ_3.3\n",
    "Return all the contributing values assigned to the assets that constitute the asset \"Battistero degli Ariani\". For each value, return its type,  definition, weight, note, and degree of occurrence.\n",
    "'''\n",
    "\n",
    "query3 = '''\n",
    "PREFIX tbox: <http://purl.org/sirius/ontology/development/03/schema/>\n",
    "PREFIX abox: <http://purl.org/sirius/ontology/development/03/data/>\n",
    "\n",
    "SELECT ?asset ?value_type ?definition ?note ?weight ?occurrence\n",
    "WHERE {\n",
    "    abox:battistero-degli-ariani tbox:hasPart ?asset .\n",
    "    ?value_assessment tbox:assignsValueTo ?asset ;\n",
    "                        tbox:assignsValue ?value .\n",
    "    ?value tbox:hasContributingValueType ?value_type ;\n",
    "            tbox:hasWeight ?weight ;\n",
    "            tbox:hasDefinition ?definition ;\n",
    "            tbox:hasDegreeOfOccurrence ?occurrence .\n",
    "    OPTIONAL {\n",
    "        ?value tbox:hasNote ?note ;\n",
    "    }\n",
    "}\n",
    "'''"
   ]
  },
  {
   "cell_type": "code",
   "execution_count": 112,
   "id": "53980eff",
   "metadata": {},
   "outputs": [
    {
     "name": "stdout",
     "output_type": "stream",
     "text": [
      "CQ_3.1\n",
      "Return the total number of items in \"Battistero degli Ariani\", the assets it is composed of, the number of items in each asset, the percentage of total value for each asset, the percentage of total value per item for each asset.\n",
      "\n",
      "+--------------------------------------------------------------------------------+------------+-----------------+-----------------+---------------+\n",
      "| asset_part                                                                     |   quantity |   perc_per_part |   perc_per_item |   total_items |\n",
      "|--------------------------------------------------------------------------------+------------+-----------------+-----------------+---------------|\n",
      "| http://purl.org/sirius/ontology/development/03/data/battistero-building        |          1 |              40 |              40 |             1 |\n",
      "| http://purl.org/sirius/ontology/development/03/data/battistero-furniture       |          5 |               5 |               1 |             5 |\n",
      "| http://purl.org/sirius/ontology/development/03/data/battistero-mosaics         |         10 |              40 |               4 |            10 |\n",
      "| http://purl.org/sirius/ontology/development/03/data/battistero-mural-paintings |          5 |              15 |               3 |             5 |\n",
      "+--------------------------------------------------------------------------------+------------+-----------------+-----------------+---------------+\n",
      "CQ_3.2\n",
      "Return the assets which have been assigned \"Artistic\" contributing values and risks which exist at the \"building\" layer of enclosure.\n",
      "\n",
      "+--------------------------------------------------------------------------------+--------------+\n",
      "| asset_part                                                                     |   perc_value |\n",
      "|--------------------------------------------------------------------------------+--------------|\n",
      "| http://purl.org/sirius/ontology/development/03/data/battistero-building        |           40 |\n",
      "| http://purl.org/sirius/ontology/development/03/data/battistero-mosaics         |           40 |\n",
      "| http://purl.org/sirius/ontology/development/03/data/battistero-mural-paintings |           15 |\n",
      "+--------------------------------------------------------------------------------+--------------+\n",
      "CQ_3.3\n",
      "Return all the contributing values assigned to the assets that constitute the asset \"Battistero degli Ariani\". For each value, return its type,  definition, weight, note, and degree of occurrence.\n",
      "\n",
      "+--------------------------------------------------------------------------------+------------------------------------------------------------------+-------------------------------------------------------------------------------------------------------------------------------------------------------------------+---------------------------------------------------------------------------------------------------------------------------------------------------------------------------------------------------------------------------------------+----------+--------------+\n",
      "| asset                                                                          | value_type                                                       | definition                                                                                                                                                        | note                                                                                                                                                                                                                                  |   weight |   occurrence |\n",
      "|--------------------------------------------------------------------------------+------------------------------------------------------------------+-------------------------------------------------------------------------------------------------------------------------------------------------------------------+---------------------------------------------------------------------------------------------------------------------------------------------------------------------------------------------------------------------------------------+----------+--------------|\n",
      "| http://purl.org/sirius/ontology/development/03/data/battistero-building        | http://purl.org/sirius/ontology/development/03/schema/historical | An object may be historically significant for its association with people, events, places, or themes.                                                             | Historically significant objects range those associated with famous people and important events to those illustrating daily life, used by ordinary people                                                                             |        5 |           81 |\n",
      "| http://purl.org/sirius/ontology/development/03/data/battistero-building        | http://purl.org/sirius/ontology/development/03/schema/artistic   | An object may be aesthetically significant for its craftsmanship, style, technical excellence, beauty, demonstration of skill, or quality of design and execution |                                                                                                                                                                                                                                       |       10 |          243 |\n",
      "| http://purl.org/sirius/ontology/development/03/data/battistero-furniture       | http://purl.org/sirius/ontology/development/03/schema/social     | Objects have social significance if they are held in community esteem.                                                                                            | This may be demonstrated by social, spiritual, or cultural expressions that provide evidence of a community’s strong affection for an object or collection and of how it contributes to that community’s identity and social cohesion |        1 |            3 |\n",
      "| http://purl.org/sirius/ontology/development/03/data/battistero-furniture       | http://purl.org/sirius/ontology/development/03/schema/historical | An object may be historically significant for its association with people, events, places, or themes.                                                             | Historically significant objects range those associated with famous people and important events to those illustrating daily life, used by ordinary people                                                                             |        5 |           81 |\n",
      "| http://purl.org/sirius/ontology/development/03/data/battistero-mosaics         | http://purl.org/sirius/ontology/development/03/schema/artistic   | An object may be aesthetically significant for its craftsmanship, style, technical excellence, beauty, demonstration of skill, or quality of design and execution |                                                                                                                                                                                                                                       |       10 |          243 |\n",
      "| http://purl.org/sirius/ontology/development/03/data/battistero-mural-paintings | http://purl.org/sirius/ontology/development/03/schema/artistic   | An object may be aesthetically significant for its craftsmanship, style, technical excellence, beauty, demonstration of skill, or quality of design and execution |                                                                                                                                                                                                                                       |       10 |          243 |\n",
      "+--------------------------------------------------------------------------------+------------------------------------------------------------------+-------------------------------------------------------------------------------------------------------------------------------------------------------------------+---------------------------------------------------------------------------------------------------------------------------------------------------------------------------------------------------------------------------------------+----------+--------------+\n"
     ]
    }
   ],
   "source": [
    "queries = [(text1, query1),\n",
    "           (text2, query2),\n",
    "           (text3, query3)\n",
    "           ]\n",
    "\n",
    "g = rdflib.ConjunctiveGraph()\n",
    "g.parse(filename, format=\"turtle\", encoding=\"utf-8\")\n",
    "\n",
    "for query in queries:\n",
    "    q = prepareQuery(query[1])\n",
    "    results = g.query(q)\n",
    "    print(query[0])\n",
    "    table = []\n",
    "    for row in results:\n",
    "        table.append([row[var] for var in results.vars])\n",
    "    print(tabulate(table, headers=results.vars, tablefmt=\"psql\"))"
   ]
  }
 ],
 "metadata": {
  "kernelspec": {
   "display_name": "Python 3 (ipykernel)",
   "language": "python",
   "name": "python3"
  },
  "language_info": {
   "codemirror_mode": {
    "name": "ipython",
    "version": 3
   },
   "file_extension": ".py",
   "mimetype": "text/x-python",
   "name": "python",
   "nbconvert_exporter": "python",
   "pygments_lexer": "ipython3",
   "version": "3.11.2"
  }
 },
 "nbformat": 4,
 "nbformat_minor": 5
}
