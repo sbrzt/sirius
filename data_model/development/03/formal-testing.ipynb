{
 "cells": [
  {
   "cell_type": "code",
   "execution_count": 67,
   "id": "0adc596a",
   "metadata": {},
   "outputs": [],
   "source": [
    "import rdflib\n",
    "from rdflib.plugins.sparql import prepareQuery\n",
    "from tabulate import tabulate"
   ]
  },
  {
   "cell_type": "code",
   "execution_count": 68,
   "id": "c7a6cfa8",
   "metadata": {},
   "outputs": [],
   "source": [
    "filename = \"ABox.ttl\""
   ]
  },
  {
   "cell_type": "code",
   "execution_count": 69,
   "id": "a54b6be8",
   "metadata": {},
   "outputs": [],
   "source": [
    "text1 = '''CQ_3.1\n",
    "Return all the risks with type \"Cumulative process\", the asset they are assiged to, the layers they exist within, and the documents that document them.\n",
    "'''\n",
    "\n",
    "query1 = '''\n",
    "PREFIX abox: <http://purl.org/sirius/ontology/development/03/data/>\n",
    "PREFIX tbox: <http://purl.org/sirius/ontology/development/03/schema/>\n",
    "\n",
    "SELECT ?risk ?asset ?layer ?document\n",
    "WHERE {\n",
    "  ?risk_assessment a tbox:RiskAssessment ;\n",
    "                  tbox:assignsRisk ?risk ;\n",
    "                  tbox:assignsRiskTo ?asset .\n",
    "  ?risk tbox:withType tbox:cumulative ;\n",
    "        tbox:withinLayer ?layer ;\n",
    "        tbox:isDocumentedBy ?document .\n",
    "}\n",
    "'''"
   ]
  },
  {
   "cell_type": "code",
   "execution_count": 70,
   "id": "ce168037",
   "metadata": {},
   "outputs": [],
   "source": [
    "text2 = '''CQ_3.2\n",
    "Return all the risks existing with the layers \"Region\" or \"Site\", the asset they are assiged to, their type, and the start and end dates of the time intervals they exist in.\n",
    "'''\n",
    "\n",
    "query2 = '''\n",
    "PREFIX abox: <http://purl.org/sirius/ontology/development/03/data/>\n",
    "PREFIX tbox: <http://purl.org/sirius/ontology/development/03/schema/>\n",
    "\n",
    "SELECT ?risk ?asset ?type ?time_interval_start ?time_interval_end\n",
    "WHERE {\n",
    "    ?risk_assessment a tbox:RiskAssessment ;\n",
    "                    tbox:assignsRisk ?risk ;\n",
    "                    tbox:assignsRiskTo ?asset .\n",
    "    ?risk tbox:withType ?type ;\n",
    "          tbox:withinLayer ?layer ;\n",
    "          tbox:atTime ?time_interval .\n",
    "    ?time_interval tbox:hasStartDate ?time_interval_start ;\n",
    "                  tbox:hasEndDate ?time_interval_end . \n",
    "    FILTER ( ?layer = tbox:region || ?layer = tbox:site )\n",
    "}\n",
    "'''"
   ]
  },
  {
   "cell_type": "code",
   "execution_count": 72,
   "id": "53980eff",
   "metadata": {},
   "outputs": [
    {
     "name": "stdout",
     "output_type": "stream",
     "text": [
      "CQ_3.1\n",
      "Return all the risks with type \"Cumulative process\", the asset they are assiged to, the layers they exist within, and the documents that document them.\n",
      "\n",
      "+-------------------------------------------------------------+----------------------------------------------------------------+----------------------------------------------------------------+----------------------------------------------------------------+\n",
      "| risk                                                        | asset                                                          | layer                                                          | document                                                       |\n",
      "|-------------------------------------------------------------+----------------------------------------------------------------+----------------------------------------------------------------+----------------------------------------------------------------|\n",
      "| http://purl.org/sirius/ontology/development/03/data/risk-01 | http://purl.org/sirius/ontology/development/03/data/baptistery | http://purl.org/sirius/ontology/development/03/schema/building | http://purl.org/sirius/ontology/development/03/data/document-a |\n",
      "| http://purl.org/sirius/ontology/development/03/data/risk-06 | http://purl.org/sirius/ontology/development/03/data/museum     | http://purl.org/sirius/ontology/development/03/schema/room     | http://purl.org/sirius/ontology/development/03/data/document-c |\n",
      "+-------------------------------------------------------------+----------------------------------------------------------------+----------------------------------------------------------------+----------------------------------------------------------------+\n",
      "CQ_3.2\n",
      "Return all the risks existing with the layers \"Region\" or \"Site\", the asset they are assiged to, their type, and the start and end dates of the time intervals they exist in.\n",
      "\n",
      "+-------------------------------------------------------------+----------------------------------------------------------------+--------------------------------------------------------------+---------------------------+---------------------------+\n",
      "| risk                                                        | asset                                                          | type                                                         | time_interval_start       | time_interval_end         |\n",
      "|-------------------------------------------------------------+----------------------------------------------------------------+--------------------------------------------------------------+---------------------------+---------------------------|\n",
      "| http://purl.org/sirius/ontology/development/03/data/risk-02 | http://purl.org/sirius/ontology/development/03/data/baptistery | http://purl.org/sirius/ontology/development/03/schema/rare   | 2020-10-10T00:00:00+00:00 | 2020-10-10T23:59:59+00:00 |\n",
      "| http://purl.org/sirius/ontology/development/03/data/risk-03 | http://purl.org/sirius/ontology/development/03/data/baptistery | http://purl.org/sirius/ontology/development/03/schema/common | 2020-10-11T00:00:00+00:00 | 2020-10-11T23:59:59+00:00 |\n",
      "| http://purl.org/sirius/ontology/development/03/data/risk-07 | http://purl.org/sirius/ontology/development/03/data/museum     | http://purl.org/sirius/ontology/development/03/schema/rare   | 2020-10-11T00:00:00+00:00 | 2020-10-11T23:59:59+00:00 |\n",
      "+-------------------------------------------------------------+----------------------------------------------------------------+--------------------------------------------------------------+---------------------------+---------------------------+\n"
     ]
    }
   ],
   "source": [
    "queries = [(text1, query1),\n",
    "           (text2, query2)\n",
    "           ]\n",
    "\n",
    "g = rdflib.ConjunctiveGraph()\n",
    "g.parse(filename, format=\"turtle\", encoding=\"utf-8\")\n",
    "\n",
    "for query in queries:\n",
    "    q = prepareQuery(query[1])\n",
    "    results = g.query(q)\n",
    "    print(query[0])\n",
    "    table = []\n",
    "    for row in results:\n",
    "        table.append([row[var] for var in results.vars])\n",
    "    print(tabulate(table, headers=results.vars, tablefmt=\"psql\"))"
   ]
  }
 ],
 "metadata": {
  "kernelspec": {
   "display_name": "Python 3 (ipykernel)",
   "language": "python",
   "name": "python3"
  },
  "language_info": {
   "codemirror_mode": {
    "name": "ipython",
    "version": 3
   },
   "file_extension": ".py",
   "mimetype": "text/x-python",
   "name": "python",
   "nbconvert_exporter": "python",
   "pygments_lexer": "ipython3",
   "version": "3.11.2"
  }
 },
 "nbformat": 4,
 "nbformat_minor": 5
}
