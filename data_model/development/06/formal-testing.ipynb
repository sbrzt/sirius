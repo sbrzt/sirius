{
 "cells": [
  {
   "cell_type": "code",
   "execution_count": 1,
   "id": "0adc596a",
   "metadata": {},
   "outputs": [],
   "source": [
    "import rdflib\n",
    "from rdflib.plugins.sparql import prepareQuery\n",
    "from tabulate import tabulate"
   ]
  },
  {
   "cell_type": "code",
   "execution_count": 2,
   "id": "c7a6cfa8",
   "metadata": {},
   "outputs": [],
   "source": [
    "filename = \"ABox.ttl\""
   ]
  },
  {
   "cell_type": "code",
   "execution_count": 3,
   "id": "a54b6be8",
   "metadata": {},
   "outputs": [],
   "source": [
    "text1 = '''CQ_6.1\n",
    "What are the treatment options developed for each risk? For each option, what are its layer of enclosure, stage of control, capital cost, annual cost, and notes?\n",
    "'''\n",
    "\n",
    "query1 = '''\n",
    "PREFIX tbox: <https://w3id.org/sirius/ontology/development/06/schema/>\n",
    "PREFIX abox: <https://w3id.org/sirius/ontology/development/06/data/>\n",
    "\n",
    "SELECT DISTINCT ?option ?note ?layer ?stage ?capital_cost ?annual_cost\n",
    "WHERE {\n",
    "  ?treatment tbox:develops ?option .\n",
    "  ?option tbox:hasNote ?note ;\n",
    "          tbox:isClassifiedByLayer ?layer ;\n",
    "          tbox:isClassifiedByControlStage ?stage ;\n",
    "          tbox:hasCapitalCost ?capital_cost ;\n",
    "          tbox:hasAnnualCost ?annual_cost .\n",
    "}\n",
    "'''"
   ]
  },
  {
   "cell_type": "code",
   "execution_count": 4,
   "id": "ce168037",
   "metadata": {},
   "outputs": [],
   "source": [
    "text2 = '''CQ_6.2\n",
    "Which are the treatment options existing in the \"fitting\" layer and at the BLOCK stage of control?\n",
    "'''\n",
    "\n",
    "query2 = '''\n",
    "PREFIX tbox: <https://w3id.org/sirius/ontology/development/06/schema/>\n",
    "PREFIX abox: <https://w3id.org/sirius/ontology/development/06/data/>\n",
    "\n",
    "SELECT DISTINCT ?option\n",
    "WHERE {\n",
    "    ?treatment tbox:develops ?option .\n",
    "    ?option tbox:isClassifiedByLayer tbox:fitting ;\n",
    "            tbox:isClassifiedByControlStage tbox:block .\n",
    "}\n",
    "'''"
   ]
  },
  {
   "cell_type": "code",
   "execution_count": 5,
   "id": "c693339b",
   "metadata": {},
   "outputs": [],
   "source": [
    "text3 = '''CQ_6.3\n",
    "Which are the treatment options with a capital cost higher than 1000 and an annual cost lower than 100?\n",
    "'''\n",
    "\n",
    "query3 = '''\n",
    "PREFIX tbox: <https://w3id.org/sirius/ontology/development/06/schema/>\n",
    "PREFIX abox: <https://w3id.org/sirius/ontology/development/06/data/>\n",
    "\n",
    "SELECT ?option ?capital_cost ?annual_cost\n",
    "WHERE {\n",
    "    ?treatment tbox:develops ?option .\n",
    "    ?option tbox:hasCapitalCost ?capital_cost ;\n",
    "            tbox:hasAnnualCost ?annual_cost .\n",
    "    FILTER(\n",
    "      ?capital_cost > 1000 &&\n",
    "      ?annual_cost < 100\n",
    "    )\n",
    "}\n",
    "'''"
   ]
  },
  {
   "cell_type": "code",
   "execution_count": 12,
   "id": "1e204a1f",
   "metadata": {},
   "outputs": [],
   "source": [
    "text4 = '''CQ_6.4\n",
    "Which are the treatment options existing in the \"building\" or \"room\" layer and at the AVOID or DETECT stage of control, with a capital cost higher than 50 and an annual cost lower than 50?\n",
    "'''\n",
    "\n",
    "query4 = '''\n",
    "PREFIX tbox: <https://w3id.org/sirius/ontology/development/06/schema/>\n",
    "PREFIX abox: <https://w3id.org/sirius/ontology/development/06/data/>\n",
    "\n",
    "SELECT ?option ?note ?layer ?stage ?capital_cost ?annual_cost\n",
    "WHERE {\n",
    "    ?treatment tbox:develops ?option .\n",
    "    ?option tbox:hasNote ?note ;\n",
    "            tbox:isClassifiedByLayer ?layer ;\n",
    "            tbox:isClassifiedByControlStage ?stage ;\n",
    "            tbox:hasCapitalCost ?capital_cost ;\n",
    "            tbox:hasAnnualCost ?annual_cost .\n",
    "    FILTER(\n",
    "      (\n",
    "        ?layer = tbox:building ||\n",
    "        ?layer = tbox:room\n",
    "      ) &&\n",
    "      (\n",
    "        ?stage = tbox:avoid ||\n",
    "        ?stage = tbox:detect\n",
    "      ) &&\n",
    "      (\n",
    "        ?capital_cost > 50 &&\n",
    "        ?annual_cost < 50\n",
    "      )\n",
    "    )\n",
    "}\n",
    "'''"
   ]
  },
  {
   "cell_type": "code",
   "execution_count": 13,
   "id": "53980eff",
   "metadata": {},
   "outputs": [
    {
     "name": "stdout",
     "output_type": "stream",
     "text": [
      "CQ_6.1\n",
      "What are the treatment options developed for each risk? For each option, what are its layer of enclosure, stage of control, capital cost, annual cost, and notes?\n",
      "\n",
      "+-----------------------------------------------------------------------------+--------------------------------------------------------------------------------------------------------------------------------------------------------------+-----------------------------------------------------------------+---------------------------------------------------------------+----------------+---------------+\n",
      "| option                                                                      | note                                                                                                                                                         | layer                                                           | stage                                                         |   capital_cost |   annual_cost |\n",
      "|-----------------------------------------------------------------------------+--------------------------------------------------------------------------------------------------------------------------------------------------------------+-----------------------------------------------------------------+---------------------------------------------------------------+----------------+---------------|\n",
      "| https://w3id.org/sirius/ontology/development/06/data/museum-theft-option-01 | Attach the objects to their base (support, BLOCK), with a capital cost of 3000 and an annual cost of 0                                                       | https://w3id.org/sirius/ontology/development/06/schema/support  | https://w3id.org/sirius/ontology/development/06/schema/block  |           3000 |             0 |\n",
      "| https://w3id.org/sirius/ontology/development/06/data/museum-theft-option-02 | Display the objects inside showcases (fitting, BLOCK), with a capital cost of 2000 and an annual cost of 100                                                 | https://w3id.org/sirius/ontology/development/06/schema/fitting  | https://w3id.org/sirius/ontology/development/06/schema/block  |           2000 |           100 |\n",
      "| https://w3id.org/sirius/ontology/development/06/data/museum-theft-option-03 | Install security cameras in the display rooms (room, DETECT), with a capital cost of 6500 and an annual cost of 50                                           | https://w3id.org/sirius/ontology/development/06/schema/room     | https://w3id.org/sirius/ontology/development/06/schema/detect |           6500 |            50 |\n",
      "| https://w3id.org/sirius/ontology/development/06/data/museum-theft-option-04 | Forbid the entrance of visitors carrying bags, backpacks, suitcases inside the museum (building, AVOID), with a capital cost of 100 and an annual cost of 10 | https://w3id.org/sirius/ontology/development/06/schema/building | https://w3id.org/sirius/ontology/development/06/schema/avoid  |            100 |            10 |\n",
      "+-----------------------------------------------------------------------------+--------------------------------------------------------------------------------------------------------------------------------------------------------------+-----------------------------------------------------------------+---------------------------------------------------------------+----------------+---------------+\n",
      "CQ_6.2\n",
      "Which are the treatment options existing in the \"fitting\" layer and at the BLOCK stage of control?\n",
      "\n",
      "+-----------------------------------------------------------------------------+\n",
      "| option                                                                      |\n",
      "|-----------------------------------------------------------------------------|\n",
      "| https://w3id.org/sirius/ontology/development/06/data/museum-theft-option-02 |\n",
      "+-----------------------------------------------------------------------------+\n",
      "CQ_6.3\n",
      "Which are the treatment options with a capital cost higher than 1000 and an annual cost lower than 100?\n",
      "\n",
      "+-----------------------------------------------------------------------------+--------+----------------+---------------+\n",
      "| option                                                                      | note   |   capital_cost |   annual_cost |\n",
      "|-----------------------------------------------------------------------------+--------+----------------+---------------|\n",
      "| https://w3id.org/sirius/ontology/development/06/data/museum-theft-option-01 |        |           3000 |             0 |\n",
      "| https://w3id.org/sirius/ontology/development/06/data/museum-theft-option-03 |        |           6500 |            50 |\n",
      "+-----------------------------------------------------------------------------+--------+----------------+---------------+\n",
      "CQ_6.4\n",
      "Which are the treatment options existing in the \"building\" or \"room\" layer and at the AVOID or DETECT stage of control, with a capital cost higher than 50 and an annual cost lower than 50?\n",
      "\n",
      "+-----------------------------------------------------------------------------+--------+-----------------------------------------------------------------+--------------------------------------------------------------+----------------+---------------+\n",
      "| option                                                                      | note   | layer                                                           | stage                                                        |   capital_cost |   annual_cost |\n",
      "|-----------------------------------------------------------------------------+--------+-----------------------------------------------------------------+--------------------------------------------------------------+----------------+---------------|\n",
      "| https://w3id.org/sirius/ontology/development/06/data/museum-theft-option-04 |        | https://w3id.org/sirius/ontology/development/06/schema/building | https://w3id.org/sirius/ontology/development/06/schema/avoid |            100 |            10 |\n",
      "+-----------------------------------------------------------------------------+--------+-----------------------------------------------------------------+--------------------------------------------------------------+----------------+---------------+\n"
     ]
    }
   ],
   "source": [
    "queries = [(text1, query1),\n",
    "           (text2, query2),\n",
    "           (text3, query3),\n",
    "           (text4, query4)\n",
    "           ]\n",
    "\n",
    "g = rdflib.ConjunctiveGraph()\n",
    "g.parse(filename, format=\"turtle\", encoding=\"utf-8\")\n",
    "\n",
    "for query in queries:\n",
    "    q = prepareQuery(query[1])\n",
    "    results = g.query(q)\n",
    "    print(query[0])\n",
    "    table = []\n",
    "    for row in results:\n",
    "        table.append([row[var] for var in results.vars])\n",
    "    print(tabulate(table, headers=results.vars, tablefmt=\"psql\"))"
   ]
  }
 ],
 "metadata": {
  "kernelspec": {
   "display_name": "Python 3 (ipykernel)",
   "language": "python",
   "name": "python3"
  },
  "language_info": {
   "codemirror_mode": {
    "name": "ipython",
    "version": 3
   },
   "file_extension": ".py",
   "mimetype": "text/x-python",
   "name": "python",
   "nbconvert_exporter": "python",
   "pygments_lexer": "ipython3",
   "version": "3.11.2"
  }
 },
 "nbformat": 4,
 "nbformat_minor": 5
}
