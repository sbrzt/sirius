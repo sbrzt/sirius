{
 "cells": [
  {
   "cell_type": "code",
   "execution_count": 55,
   "id": "0adc596a",
   "metadata": {},
   "outputs": [],
   "source": [
    "import rdflib\n",
    "from rdflib.plugins.sparql import prepareQuery\n",
    "from tabulate import tabulate"
   ]
  },
  {
   "cell_type": "code",
   "execution_count": 56,
   "id": "c7a6cfa8",
   "metadata": {},
   "outputs": [],
   "source": [
    "filename = \"ABox.ttl\""
   ]
  },
  {
   "cell_type": "code",
   "execution_count": 57,
   "id": "a54b6be8",
   "metadata": {},
   "outputs": [],
   "source": [
    "text1 = '''CQ_5.1\n",
    "Return the risks with catastrophic (15-13.5), extreme (13-11.5) or high (11-9.5) priority.'''\n",
    "\n",
    "query1 = '''\n",
    "PREFIX tbox: <https://w3id.org/sirius/ontology/development/05/schema/>\n",
    "PREFIX abox: <https://w3id.org/sirius/ontology/development/05/data/>\n",
    "\n",
    "SELECT DISTINCT ?risk ?priority\n",
    "WHERE {\n",
    "  ?evaluation tbox:evaluates ?risk ;\n",
    "              tbox:hasPriorityLevel ?priority .\n",
    "  FILTER ( \n",
    "      ?priority = tbox:catastrophic || \n",
    "      ?priority = tbox:extreme ||\n",
    "      ?priority = tbox:high\n",
    "  )\n",
    "}\n",
    "\n",
    "'''"
   ]
  },
  {
   "cell_type": "code",
   "execution_count": 58,
   "id": "ce168037",
   "metadata": {},
   "outputs": [],
   "source": [
    "text2 = '''CQ_5.2\n",
    "Return the risks, their priorities, the criterions (and their values) used to set the priorities, the conditions values on which the criterions have been set, and their acceptance levels.\n",
    "'''\n",
    "\n",
    "query2 = '''\n",
    "PREFIX tbox: <https://w3id.org/sirius/ontology/development/05/schema/>\n",
    "PREFIX abox: <https://w3id.org/sirius/ontology/development/05/data/>\n",
    "\n",
    "SELECT DISTINCT ?risk ?priority ?criterion ?criterion_value ?condition_value ?acceptance\n",
    "WHERE {\n",
    "    ?evaluation tbox:evaluates ?risk ;\n",
    "              tbox:hasPriorityLevel ?priority ;\n",
    "              tbox:hasAcceptanceLevel ?acceptance ;\n",
    "              tbox:hasCriterion ?criterion_setter .\n",
    "    ?criterion_setter tbox:setsCriterion ?criterion ;\n",
    "                      tbox:withCondition ?condition .\n",
    "    ?criterion ?value_property ?criterion_value .\n",
    "    ?condition tbox:hasQuantitativeConditionValue ?condition_value .\n",
    "    FILTER (\n",
    "      ?value_property = tbox:hasProbableEstimate ||\n",
    "      ?value_property = tbox:hasDegreeOfConfidence\n",
    "    )\n",
    "}\n",
    "'''"
   ]
  },
  {
   "cell_type": "code",
   "execution_count": 59,
   "id": "c693339b",
   "metadata": {},
   "outputs": [],
   "source": [
    "text3 = '''CQ_5.3\n",
    "Return the values of the magnitudes and the uncertainties used as criterions, the values of their conditions, the priorities assigned to their respective risks, and their acceptance levels.\n",
    "'''\n",
    "\n",
    "query3 = '''\n",
    "PREFIX tbox: <https://w3id.org/sirius/ontology/development/05/schema/>\n",
    "PREFIX abox: <https://w3id.org/sirius/ontology/development/05/data/>\n",
    "\n",
    "SELECT DISTINCT ?risk ?magnitude_value ?magnitude_condition_value ?uncertainty_value ?uncertainty_condition_value ?priority ?acceptance\n",
    "WHERE {\n",
    "    ?evaluation tbox:evaluates ?risk ;\n",
    "              tbox:hasPriorityLevel ?priority ;\n",
    "              tbox:hasAcceptanceLevel ?acceptance ;\n",
    "              tbox:hasCriterion ?magnitude_setter , ?uncertainty_setter .\n",
    "    ?magnitude_setter tbox:setsCriterion ?magnitude ;\n",
    "                      tbox:withCondition ?magnitude_condition .\n",
    "    ?magnitude a tbox:Magnitude ;\n",
    "               tbox:hasProbableEstimate ?magnitude_value .\n",
    "    ?magnitude_condition tbox:hasQuantitativeConditionValue ?magnitude_condition_value .\n",
    "    ?uncertainty_setter tbox:setsCriterion ?uncertainty ;\n",
    "                      tbox:withCondition ?uncertainty_condition .\n",
    "    ?uncertainty a tbox:Uncertainty ;\n",
    "                 tbox:hasDegreeOfConfidence ?uncertainty_value .\n",
    "    ?uncertainty_condition tbox:hasQuantitativeConditionValue ?uncertainty_condition_value .\n",
    "}\n",
    "'''"
   ]
  },
  {
   "cell_type": "code",
   "execution_count": 60,
   "id": "53980eff",
   "metadata": {},
   "outputs": [
    {
     "name": "stdout",
     "output_type": "stream",
     "text": [
      "CQ_5.1\n",
      "Return the risks with catastrophic (15-13.5), extreme (13-11.5) or high (11-9.5) priority.\n",
      "+-------------------------------------------------------------------+----------------------------------------------------------------+\n",
      "| risk                                                              | priority                                                       |\n",
      "|-------------------------------------------------------------------+----------------------------------------------------------------|\n",
      "| https://w3id.org/sirius/ontology/development/05/data/museum-fire  | https://w3id.org/sirius/ontology/development/05/schema/extreme |\n",
      "| https://w3id.org/sirius/ontology/development/05/data/museum-theft | https://w3id.org/sirius/ontology/development/05/schema/high    |\n",
      "+-------------------------------------------------------------------+----------------------------------------------------------------+\n",
      "CQ_5.2\n",
      "Return the risks, their priorities, the criterions (and their values) used to set the priorities, the conditions values on which the criterions have been set, and their acceptance levels.\n",
      "\n",
      "+---------------------------------------------------------------------------+----------------------------------------------------------------+---------------------------------------------------------------------------------------+-------------------+-------------------+--------------------------------------------------------------------+\n",
      "| risk                                                                      | priority                                                       | criterion                                                                             |   criterion_value |   condition_value | acceptance                                                         |\n",
      "|---------------------------------------------------------------------------+----------------------------------------------------------------+---------------------------------------------------------------------------------------+-------------------+-------------------+--------------------------------------------------------------------|\n",
      "| https://w3id.org/sirius/ontology/development/05/data/museum-fire          | https://w3id.org/sirius/ontology/development/05/schema/extreme | https://w3id.org/sirius/ontology/development/05/data/museum-fire-mr                   |              12.5 |                10 | https://w3id.org/sirius/ontology/development/05/schema/treat-asap  |\n",
      "| https://w3id.org/sirius/ontology/development/05/data/museum-fire          | https://w3id.org/sirius/ontology/development/05/schema/extreme | https://w3id.org/sirius/ontology/development/05/data/museum-fire-uncertainty          |               1   |                 2 | https://w3id.org/sirius/ontology/development/05/schema/treat-asap  |\n",
      "| https://w3id.org/sirius/ontology/development/05/data/museum-theft         | https://w3id.org/sirius/ontology/development/05/schema/high    | https://w3id.org/sirius/ontology/development/05/data/museum-theft-mr                  |              10.5 |                10 | https://w3id.org/sirius/ontology/development/05/schema/review-asap |\n",
      "| https://w3id.org/sirius/ontology/development/05/data/museum-theft         | https://w3id.org/sirius/ontology/development/05/schema/high    | https://w3id.org/sirius/ontology/development/05/data/museum-theft-uncertainty         |               2.5 |                 2 | https://w3id.org/sirius/ontology/development/05/schema/review-asap |\n",
      "| https://w3id.org/sirius/ontology/development/05/data/museum-deterioration | https://w3id.org/sirius/ontology/development/05/schema/low     | https://w3id.org/sirius/ontology/development/05/data/museum-deterioration-mr          |               7.5 |                10 | https://w3id.org/sirius/ontology/development/05/schema/no-action   |\n",
      "| https://w3id.org/sirius/ontology/development/05/data/museum-deterioration | https://w3id.org/sirius/ontology/development/05/schema/low     | https://w3id.org/sirius/ontology/development/05/data/museum-deterioration-uncertainty |               1   |                 2 | https://w3id.org/sirius/ontology/development/05/schema/no-action   |\n",
      "+---------------------------------------------------------------------------+----------------------------------------------------------------+---------------------------------------------------------------------------------------+-------------------+-------------------+--------------------------------------------------------------------+\n",
      "CQ_5.3\n",
      "Return the values of the magnitudes and the uncertainties used as criterions, the values of their conditions, the priorities assigned to their respective risks, and their acceptance levels.\n",
      "\n",
      "+---------------------------------------------------------------------------+-------------------+-----------------------------+---------------------+-------------------------------+----------------------------------------------------------------+--------------------------------------------------------------------+\n",
      "| risk                                                                      |   magnitude_value |   magnitude_condition_value |   uncertainty_value |   uncertainty_condition_value | priority                                                       | acceptance                                                         |\n",
      "|---------------------------------------------------------------------------+-------------------+-----------------------------+---------------------+-------------------------------+----------------------------------------------------------------+--------------------------------------------------------------------|\n",
      "| https://w3id.org/sirius/ontology/development/05/data/museum-fire          |              12.5 |                          10 |                 1   |                             2 | https://w3id.org/sirius/ontology/development/05/schema/extreme | https://w3id.org/sirius/ontology/development/05/schema/treat-asap  |\n",
      "| https://w3id.org/sirius/ontology/development/05/data/museum-theft         |              10.5 |                          10 |                 2.5 |                             2 | https://w3id.org/sirius/ontology/development/05/schema/high    | https://w3id.org/sirius/ontology/development/05/schema/review-asap |\n",
      "| https://w3id.org/sirius/ontology/development/05/data/museum-deterioration |               7.5 |                          10 |                 1   |                             2 | https://w3id.org/sirius/ontology/development/05/schema/low     | https://w3id.org/sirius/ontology/development/05/schema/no-action   |\n",
      "+---------------------------------------------------------------------------+-------------------+-----------------------------+---------------------+-------------------------------+----------------------------------------------------------------+--------------------------------------------------------------------+\n"
     ]
    }
   ],
   "source": [
    "queries = [(text1, query1),\n",
    "           (text2, query2),\n",
    "           (text3, query3)\n",
    "           ]\n",
    "\n",
    "g = rdflib.ConjunctiveGraph()\n",
    "g.parse(filename, format=\"turtle\", encoding=\"utf-8\")\n",
    "\n",
    "for query in queries:\n",
    "    q = prepareQuery(query[1])\n",
    "    results = g.query(q)\n",
    "    print(query[0])\n",
    "    table = []\n",
    "    for row in results:\n",
    "        table.append([row[var] for var in results.vars])\n",
    "    print(tabulate(table, headers=results.vars, tablefmt=\"psql\"))"
   ]
  }
 ],
 "metadata": {
  "kernelspec": {
   "display_name": "Python 3 (ipykernel)",
   "language": "python",
   "name": "python3"
  },
  "language_info": {
   "codemirror_mode": {
    "name": "ipython",
    "version": 3
   },
   "file_extension": ".py",
   "mimetype": "text/x-python",
   "name": "python",
   "nbconvert_exporter": "python",
   "pygments_lexer": "ipython3",
   "version": "3.11.2"
  }
 },
 "nbformat": 4,
 "nbformat_minor": 5
}
