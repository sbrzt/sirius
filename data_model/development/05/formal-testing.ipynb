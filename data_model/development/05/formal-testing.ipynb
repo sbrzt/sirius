{
 "cells": [
  {
   "cell_type": "code",
   "execution_count": 17,
   "id": "0adc596a",
   "metadata": {},
   "outputs": [],
   "source": [
    "import rdflib\n",
    "from rdflib.plugins.sparql import prepareQuery\n",
    "from tabulate import tabulate"
   ]
  },
  {
   "cell_type": "code",
   "execution_count": 18,
   "id": "c7a6cfa8",
   "metadata": {},
   "outputs": [],
   "source": [
    "filename = \"ABox.ttl\""
   ]
  },
  {
   "cell_type": "code",
   "execution_count": 19,
   "id": "a54b6be8",
   "metadata": {},
   "outputs": [],
   "source": [
    "text1 = '''CQ_5.1\n",
    "Return the assets that are part of the `house` asset and the asset percentage they represent, in descending order.\n",
    "'''\n",
    "\n",
    "query1 = '''\n",
    "PREFIX tbox: <http://purl.org/sirius/ontology/development/05/schema/>\n",
    "PREFIX abox: <http://purl.org/sirius/ontology/development/05/data/>\n",
    "\n",
    "SELECT ?asset ?asset_part ?percentage\n",
    "WHERE {\n",
    "  ?asset a tbox:HeritageAsset ;\n",
    "        tbox:hasPart ?asset_part .\n",
    "  ?asset_part tbox:representsAssetPercentage ?percentage .\n",
    "}\n",
    "\n",
    "'''"
   ]
  },
  {
   "cell_type": "code",
   "execution_count": 20,
   "id": "ce168037",
   "metadata": {},
   "outputs": [],
   "source": [
    "text2 = '''CQ_5.2\n",
    "Return the assets that are part of the `house` asset and the contributing values assigned to them, along with their score, dimension, aspect, note, documentation, and time interval.\n",
    "'''\n",
    "\n",
    "query2 = '''\n",
    "PREFIX tbox: <http://purl.org/sirius/ontology/development/05/schema/>\n",
    "PREFIX abox: <http://purl.org/sirius/ontology/development/05/data/>\n",
    "\n",
    "SELECT DISTINCT ?asset_part ?value ?score ?dimension ?aspect ?note ?document ?time_interval_start ?time_interval_end\n",
    "WHERE {\n",
    "    ?asset a tbox:HeritageAsset ;\n",
    "            tbox:hasPart ?asset_part .\n",
    "    ?value_assessment tbox:assignsValueTo ?asset_part ;\n",
    "                        tbox:assignsValue ?value .\n",
    "    ?value tbox:hasScore ?score ;\n",
    "            tbox:withDimension ?dimension ;\n",
    "            tbox:withinAspect ?aspect ;\n",
    "            tbox:hasNote ?note ;\n",
    "            tbox:isDocumentedBy ?document ;\n",
    "            tbox:atTime ?time_interval .\n",
    "    ?time_interval tbox:hasStartDate ?time_interval_start ;\n",
    "                    tbox:hasEndDate ?time_interval_end .\n",
    "}\n",
    "'''"
   ]
  },
  {
   "cell_type": "code",
   "execution_count": 21,
   "id": "53980eff",
   "metadata": {},
   "outputs": [
    {
     "name": "stdout",
     "output_type": "stream",
     "text": [
      "CQ_5.1\n",
      "Return the assets that are part of the `house` asset and the asset percentage they represent, in descending order.\n",
      "\n",
      "+-----------------------------------------------------------+---------------------------------------------------------------+--------------+\n",
      "| asset                                                     | asset_part                                                    |   percentage |\n",
      "|-----------------------------------------------------------+---------------------------------------------------------------+--------------|\n",
      "| http://purl.org/sirius/ontology/development/05/data/house | http://purl.org/sirius/ontology/development/05/data/building  |           50 |\n",
      "| http://purl.org/sirius/ontology/development/05/data/house | http://purl.org/sirius/ontology/development/05/data/furniture |           20 |\n",
      "| http://purl.org/sirius/ontology/development/05/data/house | http://purl.org/sirius/ontology/development/05/data/mosaics   |           20 |\n",
      "| http://purl.org/sirius/ontology/development/05/data/house | http://purl.org/sirius/ontology/development/05/data/paintings |           10 |\n",
      "+-----------------------------------------------------------+---------------------------------------------------------------+--------------+\n",
      "CQ_5.2\n",
      "Return the assets that are part of the `house` asset and the contributing values assigned to them, along with their score, dimension, aspect, note, documentation, and time interval.\n",
      "\n",
      "+---------------------------------------------------------------+--------------------------------------------------------------+---------+------------------------------------------------------------------+-----------------------------------------------------------------+--------------------------------------------------------------------------------------------------------------------------------------------------------------------------------------------------------------------------+----------------------------------------------------------------+---------------------------+---------------------------+\n",
      "| asset_part                                                    | value                                                        |   score | dimension                                                        | aspect                                                          | note                                                                                                                                                                                                                     | document                                                       | time_interval_start       | time_interval_end         |\n",
      "|---------------------------------------------------------------+--------------------------------------------------------------+---------+------------------------------------------------------------------+-----------------------------------------------------------------+--------------------------------------------------------------------------------------------------------------------------------------------------------------------------------------------------------------------------+----------------------------------------------------------------+---------------------------+---------------------------|\n",
      "| http://purl.org/sirius/ontology/development/05/data/building  | http://purl.org/sirius/ontology/development/05/data/value-1  |    3.74 | http://purl.org/sirius/ontology/development/05/schema/artistic   | http://purl.org/sirius/ontology/development/05/schema/form      | With simplicity and minimal manipulation creatively retained and upgraded Kashani's house artistic values.                                                                                                               | http://purl.org/sirius/ontology/development/05/data/document-a | 2020-11-21T00:00:00+00:00 | 2020-11-21T23:59:59+00:00 |\n",
      "| http://purl.org/sirius/ontology/development/05/data/building  | http://purl.org/sirius/ontology/development/05/data/value-2  |    3.33 | http://purl.org/sirius/ontology/development/05/schema/historic   | http://purl.org/sirius/ontology/development/05/schema/form      | It is an example of a Qajar house which has been refurbished like other contemporary houses based on historical documents and comparative studies.                                                                       | http://purl.org/sirius/ontology/development/05/data/document-a | 2020-10-19T00:00:00+00:00 | 2020-10-19T23:59:59+00:00 |\n",
      "| http://purl.org/sirius/ontology/development/05/data/building  | http://purl.org/sirius/ontology/development/05/data/value-3  |    3.26 | http://purl.org/sirius/ontology/development/05/schema/social     | http://purl.org/sirius/ontology/development/05/schema/function  | The house design and decoration represents the middle social class in the Qajar era.                                                                                                                                     | http://purl.org/sirius/ontology/development/05/data/document-a | 2021-01-03T00:00:00+00:00 | 2021-01-03T23:59:59+00:00 |\n",
      "| http://purl.org/sirius/ontology/development/05/data/furniture | http://purl.org/sirius/ontology/development/05/data/value-4  |    3.38 | http://purl.org/sirius/ontology/development/05/schema/scientific | http://purl.org/sirius/ontology/development/05/schema/form      | The remains of the building forms and original shapes are the credible scientific source for recognition typology, structure and the idea of creating spaces in the historic Qajar houses of Kashan.                     | http://purl.org/sirius/ontology/development/05/data/document-b | 2020-11-21T00:00:00+00:00 | 2020-11-21T23:59:59+00:00 |\n",
      "| http://purl.org/sirius/ontology/development/05/data/furniture | http://purl.org/sirius/ontology/development/05/data/value-5  |    3.65 | http://purl.org/sirius/ontology/development/05/schema/artistic   | http://purl.org/sirius/ontology/development/05/schema/substance | Used Original materials generally had a good condition and new materials used in a simple but innovative way in respect to historical values.                                                                            | http://purl.org/sirius/ontology/development/05/data/document-b | 2021-01-05T00:00:00+00:00 | 2021-01-05T23:59:59+00:00 |\n",
      "| http://purl.org/sirius/ontology/development/05/data/mosaics   | http://purl.org/sirius/ontology/development/05/data/value-6  |    3.75 | http://purl.org/sirius/ontology/development/05/schema/historic   | http://purl.org/sirius/ontology/development/05/schema/function  | Hotels for temporary residence are selected in accordance with the historical values of the house.                                                                                                                       | http://purl.org/sirius/ontology/development/05/data/document-b | 2020-12-06T00:00:00+00:00 | 2020-12-06T23:59:59+00:00 |\n",
      "| http://purl.org/sirius/ontology/development/05/data/mosaics   | http://purl.org/sirius/ontology/development/05/data/value-7  |    4    | http://purl.org/sirius/ontology/development/05/schema/social     | http://purl.org/sirius/ontology/development/05/schema/tradition | Taking advantage of professional craftsmen with different specialties played an important role in the construction and restoration of a historic house in Kashan. Weaving workshop has revived this art in Kashan        | http://purl.org/sirius/ontology/development/05/data/document-c | 2020-11-12T00:00:00+00:00 | 2020-11-12T23:59:59+00:00 |\n",
      "| http://purl.org/sirius/ontology/development/05/data/mosaics   | http://purl.org/sirius/ontology/development/05/data/value-8  |    3.57 | http://purl.org/sirius/ontology/development/05/schema/scientific | http://purl.org/sirius/ontology/development/05/schema/tradition | The principal of scientific techniques and traditional construction process related to the formation period extensively displayed and made it possible to study them and showed traditional textile method to be taught. | http://purl.org/sirius/ontology/development/05/data/document-c | 2020-10-18T00:00:00+00:00 | 2020-10-18T23:59:59+00:00 |\n",
      "| http://purl.org/sirius/ontology/development/05/data/paintings | http://purl.org/sirius/ontology/development/05/data/value-10 |    3.98 | http://purl.org/sirius/ontology/development/05/schema/historic   | http://purl.org/sirius/ontology/development/05/schema/setting   | It has revived the sense of a Qajar house in Kashan. Representing textile art caused Kashan people to take pride in their historical art.                                                                                | http://purl.org/sirius/ontology/development/05/data/document-c | 2020-11-21T00:00:00+00:00 | 2020-11-21T23:59:59+00:00 |\n",
      "| http://purl.org/sirius/ontology/development/05/data/paintings | http://purl.org/sirius/ontology/development/05/data/value-9  |    4.45 | http://purl.org/sirius/ontology/development/05/schema/social     | http://purl.org/sirius/ontology/development/05/schema/setting   | Social and security level of the neighborhood has been increased. Reuse prosperity in Kashan caused job creation in construction industry and services.                                                                  | http://purl.org/sirius/ontology/development/05/data/document-c | 2020-11-21T00:00:00+00:00 | 2020-11-21T23:59:59+00:00 |\n",
      "+---------------------------------------------------------------+--------------------------------------------------------------+---------+------------------------------------------------------------------+-----------------------------------------------------------------+--------------------------------------------------------------------------------------------------------------------------------------------------------------------------------------------------------------------------+----------------------------------------------------------------+---------------------------+---------------------------+\n"
     ]
    }
   ],
   "source": [
    "queries = [(text1, query1),\n",
    "           (text2, query2)\n",
    "           ]\n",
    "\n",
    "g = rdflib.ConjunctiveGraph()\n",
    "g.parse(filename, format=\"turtle\", encoding=\"utf-8\")\n",
    "\n",
    "for query in queries:\n",
    "    q = prepareQuery(query[1])\n",
    "    results = g.query(q)\n",
    "    print(query[0])\n",
    "    table = []\n",
    "    for row in results:\n",
    "        table.append([row[var] for var in results.vars])\n",
    "    print(tabulate(table, headers=results.vars, tablefmt=\"psql\"))"
   ]
  }
 ],
 "metadata": {
  "kernelspec": {
   "display_name": "Python 3 (ipykernel)",
   "language": "python",
   "name": "python3"
  },
  "language_info": {
   "codemirror_mode": {
    "name": "ipython",
    "version": 3
   },
   "file_extension": ".py",
   "mimetype": "text/x-python",
   "name": "python",
   "nbconvert_exporter": "python",
   "pygments_lexer": "ipython3",
   "version": "3.11.2"
  }
 },
 "nbformat": 4,
 "nbformat_minor": 5
}
