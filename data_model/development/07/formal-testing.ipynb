{
 "cells": [
  {
   "cell_type": "code",
   "execution_count": 15,
   "id": "0adc596a",
   "metadata": {},
   "outputs": [],
   "source": [
    "import rdflib\n",
    "from rdflib.plugins.sparql import prepareQuery\n",
    "from tabulate import tabulate"
   ]
  },
  {
   "cell_type": "code",
   "execution_count": 16,
   "id": "c7a6cfa8",
   "metadata": {},
   "outputs": [],
   "source": [
    "filename = \"ABox.ttl\""
   ]
  },
  {
   "cell_type": "code",
   "execution_count": 17,
   "id": "a54b6be8",
   "metadata": {},
   "outputs": [],
   "source": [
    "text1 = '''CQ_7.1\n",
    "What are the steps that are part of the workflow for the risk assessment of the museum? What is their duration? What are the activities they were executed in?\n",
    "'''\n",
    "\n",
    "query1 = '''\n",
    "PREFIX tbox: <https://w3id.org/sirius/ontology/development/07/schema/>\n",
    "PREFIX abox: <https://w3id.org/sirius/ontology/development/07/data/>\n",
    "\n",
    "SELECT DISTINCT ?step ?duration_value ?activity\n",
    "WHERE {\n",
    "  ?workflow tbox:hasStep ?step .\n",
    "  ?step tbox:hasDuration ?duration ;\n",
    "    tbox:isExecutedIn ?activity .\n",
    "  ?duration tbox:hasDays ?duration_value .\n",
    "}\n",
    "'''"
   ]
  },
  {
   "cell_type": "code",
   "execution_count": 18,
   "id": "ce168037",
   "metadata": {},
   "outputs": [],
   "source": [
    "text2 = '''CQ_7.2\n",
    "What are the activities involved in the event executing the workflow? What are the time interval in which they respectively are executed?\n",
    "'''\n",
    "\n",
    "query2 = '''\n",
    "PREFIX tbox: <https://w3id.org/sirius/ontology/development/07/schema/>\n",
    "PREFIX abox: <https://w3id.org/sirius/ontology/development/07/data/>\n",
    "\n",
    "SELECT DISTINCT ?activity ?start_date ?end_date\n",
    "WHERE {\n",
    "    ?workflow_execution tbox:involvesActivity ?activity .\n",
    "    ?activity tbox:atTime ?time_interval .\n",
    "    ?time_interval tbox:hasStartDate ?start_date ;\n",
    "      tbox:hasEndDate ?end_date .\n",
    "}\n",
    "'''"
   ]
  },
  {
   "cell_type": "code",
   "execution_count": 19,
   "id": "c693339b",
   "metadata": {},
   "outputs": [],
   "source": [
    "text3 = '''CQ_7.3\n",
    "What does each assessment activity target? What does it assess?\n",
    "'''\n",
    "\n",
    "query3 = '''\n",
    "PREFIX tbox: <https://w3id.org/sirius/ontology/development/07/schema/>\n",
    "PREFIX abox: <https://w3id.org/sirius/ontology/development/07/data/>\n",
    "\n",
    "SELECT ?activity ?heritage_asset ?element\n",
    "WHERE {\n",
    "    ?activity tbox:targets ?heritage_asset ;\n",
    "      tbox:assesses ?element .\n",
    "}\n",
    "'''"
   ]
  },
  {
   "cell_type": "code",
   "execution_count": 20,
   "id": "1e204a1f",
   "metadata": {},
   "outputs": [],
   "source": [
    "text4 = '''CQ_7.4\n",
    "Who participated in each assessment activity? When? What did it target? What did it assess? What is it documented by?\n",
    "'''\n",
    "\n",
    "query4 = '''\n",
    "PREFIX tbox: <https://w3id.org/sirius/ontology/development/07/schema/>\n",
    "PREFIX abox: <https://w3id.org/sirius/ontology/development/07/data/>\n",
    "\n",
    "SELECT ?activity ?agent ?start_date ?end_date ?heritage_asset ?element ?source\n",
    "WHERE {\n",
    "    ?activity tbox:hasParticipant ?agent ;\n",
    "      tbox:atTime ?time_interval ;\n",
    "      tbox:targets ?heritage_asset ;\n",
    "      tbox:assesses ?element .\n",
    "    ?time_interval tbox:hasStartDate ?start_date ;\n",
    "      tbox:hasEndDate ?end_date .\n",
    "    OPTIONAL {\n",
    "      ?activity tbox:isDocumentedBy ?source .\n",
    "    }\n",
    "}\n",
    "'''"
   ]
  },
  {
   "cell_type": "code",
   "execution_count": 21,
   "id": "53980eff",
   "metadata": {},
   "outputs": [
    {
     "name": "stdout",
     "output_type": "stream",
     "text": [
      "CQ_7.1\n",
      "What are the steps that are part of the workflow for the risk assessment of the museum? What is their duration? What are the activities they were executed in?\n",
      "\n",
      "+--------------------------------------------------------------------+------------------+------------------------------------------------------------------------------+\n",
      "| step                                                               |   duration_value | activity                                                                     |\n",
      "|--------------------------------------------------------------------+------------------+------------------------------------------------------------------------------|\n",
      "| https://w3id.org/sirius/ontology/development/07/data/identify-step |               30 | https://w3id.org/sirius/ontology/development/07/data/identification-activity |\n",
      "| https://w3id.org/sirius/ontology/development/07/data/analyze-step  |                5 | https://w3id.org/sirius/ontology/development/07/data/analysis-activity       |\n",
      "| https://w3id.org/sirius/ontology/development/07/data/evaluate-step |               30 | https://w3id.org/sirius/ontology/development/07/data/evaluation-activity     |\n",
      "| https://w3id.org/sirius/ontology/development/07/data/treat-step    |               20 | https://w3id.org/sirius/ontology/development/07/data/treatment-activity      |\n",
      "+--------------------------------------------------------------------+------------------+------------------------------------------------------------------------------+\n",
      "CQ_7.2\n",
      "What are the activities involved in the event executing the workflow? What are the time interval in which they respectively are executed?\n",
      "\n",
      "+-----------------------------------------------------------------------------------+--------------+------------+\n",
      "| activity                                                                          | start_date   | end_date   |\n",
      "|-----------------------------------------------------------------------------------+--------------+------------|\n",
      "| https://w3id.org/sirius/ontology/development/07/data/context-description-activity | 2023-01-10   | 2023-01-20 |\n",
      "| https://w3id.org/sirius/ontology/development/07/data/identification-activity      | 2023-01-20   | 2023-02-20 |\n",
      "| https://w3id.org/sirius/ontology/development/07/data/analysis-activity            | 2023-02-20   | 2023-02-25 |\n",
      "| https://w3id.org/sirius/ontology/development/07/data/evaluation-activity          | 2023-02-25   | 2023-03-25 |\n",
      "| https://w3id.org/sirius/ontology/development/07/data/treatment-activity           | 2023-03-25   | 2023-04-15 |\n",
      "+-----------------------------------------------------------------------------------+--------------+------------+\n",
      "CQ_7.3\n",
      "What does each assessment activity target? What does it assess?\n",
      "\n",
      "+-----------------------------------------------------------------------------------+-------------------------------------------------------------+---------------------------------------------------------------+\n",
      "| activity                                                                          | heritage_asset                                              | element                                                       |\n",
      "|-----------------------------------------------------------------------------------+-------------------------------------------------------------+---------------------------------------------------------------|\n",
      "| https://w3id.org/sirius/ontology/development/07/data/context-description-activity | https://w3id.org/sirius/ontology/development/07/data/museum | https://w3id.org/sirius/ontology/development/07/data/value-01 |\n",
      "| https://w3id.org/sirius/ontology/development/07/data/identification-activity      | https://w3id.org/sirius/ontology/development/07/data/museum | https://w3id.org/sirius/ontology/development/07/data/risk-01  |\n",
      "| https://w3id.org/sirius/ontology/development/07/data/analysis-activity            | https://w3id.org/sirius/ontology/development/07/data/museum | https://w3id.org/sirius/ontology/development/07/data/risk-01  |\n",
      "| https://w3id.org/sirius/ontology/development/07/data/evaluation-activity          | https://w3id.org/sirius/ontology/development/07/data/museum | https://w3id.org/sirius/ontology/development/07/data/risk-01  |\n",
      "| https://w3id.org/sirius/ontology/development/07/data/treatment-activity           | https://w3id.org/sirius/ontology/development/07/data/museum | https://w3id.org/sirius/ontology/development/07/data/risk-01  |\n",
      "+-----------------------------------------------------------------------------------+-------------------------------------------------------------+---------------------------------------------------------------+\n",
      "CQ_7.4\n",
      "Who participated in each assessment activity? When? What did it target? What did it assess? What is it documented by?\n",
      "\n",
      "+-----------------------------------------------------------------------------------+----------------------------------------------------------------------+--------------+------------+-------------------------------------------------------------+---------------------------------------------------------------+-----------------------------------------------------------------------+\n",
      "| activity                                                                          | agent                                                                | start_date   | end_date   | heritage_asset                                              | element                                                       | source                                                                |\n",
      "|-----------------------------------------------------------------------------------+----------------------------------------------------------------------+--------------+------------+-------------------------------------------------------------+---------------------------------------------------------------+-----------------------------------------------------------------------|\n",
      "| https://w3id.org/sirius/ontology/development/07/data/context-description-activity | https://w3id.org/sirius/ontology/development/07/data/marta-cosentini | 2023-01-10   | 2023-01-20 | https://w3id.org/sirius/ontology/development/07/data/museum | https://w3id.org/sirius/ontology/development/07/data/value-01 | https://w3id.org/sirius/ontology/development/07/data/catalogue-record |\n",
      "| https://w3id.org/sirius/ontology/development/07/data/identification-activity      | https://w3id.org/sirius/ontology/development/07/data/marta-cosentini | 2023-01-20   | 2023-02-20 | https://w3id.org/sirius/ontology/development/07/data/museum | https://w3id.org/sirius/ontology/development/07/data/risk-01  | https://w3id.org/sirius/ontology/development/07/data/historic-record  |\n",
      "| https://w3id.org/sirius/ontology/development/07/data/analysis-activity            | https://w3id.org/sirius/ontology/development/07/data/marta-cosentini | 2023-02-20   | 2023-02-25 | https://w3id.org/sirius/ontology/development/07/data/museum | https://w3id.org/sirius/ontology/development/07/data/risk-01  |                                                                       |\n",
      "| https://w3id.org/sirius/ontology/development/07/data/evaluation-activity          | https://w3id.org/sirius/ontology/development/07/data/marta-cosentini | 2023-02-25   | 2023-03-25 | https://w3id.org/sirius/ontology/development/07/data/museum | https://w3id.org/sirius/ontology/development/07/data/risk-01  |                                                                       |\n",
      "| https://w3id.org/sirius/ontology/development/07/data/treatment-activity           | https://w3id.org/sirius/ontology/development/07/data/marta-cosentini | 2023-03-25   | 2023-04-15 | https://w3id.org/sirius/ontology/development/07/data/museum | https://w3id.org/sirius/ontology/development/07/data/risk-01  |                                                                       |\n",
      "+-----------------------------------------------------------------------------------+----------------------------------------------------------------------+--------------+------------+-------------------------------------------------------------+---------------------------------------------------------------+-----------------------------------------------------------------------+\n"
     ]
    }
   ],
   "source": [
    "queries = [(text1, query1),\n",
    "           (text2, query2),\n",
    "           (text3, query3),\n",
    "           (text4, query4)\n",
    "           ]\n",
    "\n",
    "g = rdflib.ConjunctiveGraph()\n",
    "g.parse(filename, format=\"turtle\", encoding=\"utf-8\")\n",
    "\n",
    "for query in queries:\n",
    "    q = prepareQuery(query[1])\n",
    "    results = g.query(q)\n",
    "    print(query[0])\n",
    "    table = []\n",
    "    for row in results:\n",
    "        table.append([row[var] for var in results.vars])\n",
    "    print(tabulate(table, headers=results.vars, tablefmt=\"psql\"))"
   ]
  }
 ],
 "metadata": {
  "kernelspec": {
   "display_name": "Python 3 (ipykernel)",
   "language": "python",
   "name": "python3"
  },
  "language_info": {
   "codemirror_mode": {
    "name": "ipython",
    "version": 3
   },
   "file_extension": ".py",
   "mimetype": "text/x-python",
   "name": "python",
   "nbconvert_exporter": "python",
   "pygments_lexer": "ipython3",
   "version": "3.11.2"
  }
 },
 "nbformat": 4,
 "nbformat_minor": 5
}
