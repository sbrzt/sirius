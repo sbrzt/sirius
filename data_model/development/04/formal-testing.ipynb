{
 "cells": [
  {
   "cell_type": "code",
   "execution_count": 1,
   "id": "0adc596a",
   "metadata": {},
   "outputs": [],
   "source": [
    "import rdflib\n",
    "from rdflib.plugins.sparql import prepareQuery\n",
    "from tabulate import tabulate"
   ]
  },
  {
   "cell_type": "code",
   "execution_count": 2,
   "id": "c7a6cfa8",
   "metadata": {},
   "outputs": [],
   "source": [
    "filename = \"ABox.ttl\""
   ]
  },
  {
   "cell_type": "code",
   "execution_count": 3,
   "id": "a54b6be8",
   "metadata": {},
   "outputs": [],
   "source": [
    "text1 = '''CQ_4.1\n",
    "Return the probable estimate of the A-score, B-score, C-score for each risk affecting each heritage asset, as well as the sources of knowledge that witness them.\n",
    "'''\n",
    "\n",
    "query1 = '''\n",
    "PREFIX tbox: <http://purl.org/sirius/ontology/development/04/schema/>\n",
    "PREFIX abox: <http://purl.org/sirius/ontology/development/04/data/>\n",
    "\n",
    "SELECT ?risk ?heritage_asset ?risk_component ?probable_estimate ?note ?knowledge_source\n",
    "WHERE {\n",
    "  ?risk_assessment tbox:assignsRiskTo ?heritage_asset ;\n",
    "                    tbox:assignsRisk ?risk .\n",
    "  ?risk tbox:hasComponent ?risk_component .\n",
    "  ?risk_component tbox:hasProbableEstimate ?probable_estimate ;\n",
    "                  tbox:hasNote ?note .\n",
    "  OPTIONAL {\n",
    "    ?risk_component tbox:isDocumentedBy ?knowledge_source ;\n",
    "  }\n",
    "}\n",
    "'''"
   ]
  },
  {
   "cell_type": "code",
   "execution_count": 4,
   "id": "ce168037",
   "metadata": {},
   "outputs": [],
   "source": [
    "text2 = '''CQ_4.2\n",
    "Return the low, probable, and high estimates of the magnitudes of risk for each risk of each heritage asset.\n",
    "'''\n",
    "\n",
    "query2 = '''\n",
    "PREFIX tbox: <http://purl.org/sirius/ontology/development/04/schema/>\n",
    "PREFIX abox: <http://purl.org/sirius/ontology/development/04/data/>\n",
    "\n",
    "SELECT ?risk ?heritage_asset ?low_estimate ?probable_estimate ?high_estimate\n",
    "WHERE {\n",
    "  ?risk_assessment tbox:assignsRiskTo ?heritage_asset ;\n",
    "                    tbox:assignsRisk ?risk .\n",
    "  ?risk tbox:hasMagnitude ?risk_magnitude .\n",
    "  ?risk_magnitude tbox:hasLowEstimate ?low_estimate ;\n",
    "                  tbox:hasProbableEstimate ?probable_estimate ;\n",
    "                  tbox:hasHighEstimate ?high_estimate .\n",
    "}\n",
    "'''"
   ]
  },
  {
   "cell_type": "code",
   "execution_count": 5,
   "id": "53980eff",
   "metadata": {},
   "outputs": [
    {
     "name": "stdout",
     "output_type": "stream",
     "text": [
      "CQ_4.1\n",
      "Return the probable estimate of the A-score, B-score, C-score for each risk affecting each heritage asset, as well as the sources of knowledge that witness them.\n",
      "\n",
      "+---------------------------------------------------------------------------+-------------------------------------------------------------+-----------------------------------------------------------------------------+---------------------+----------------------------------------------------------------------------------------------------------------------------------------------------------------------------------------------------------------------------------------------------------------------------+-------------------------------------------------------------------------+\n",
      "| risk                                                                      | heritage_asset                                              | risk_component                                                              |   probable_estimate | note                                                                                                                                                                                                                                                                       | knowledge_source                                                        |\n",
      "|---------------------------------------------------------------------------+-------------------------------------------------------------+-----------------------------------------------------------------------------+---------------------+----------------------------------------------------------------------------------------------------------------------------------------------------------------------------------------------------------------------------------------------------------------------------+-------------------------------------------------------------------------|\n",
      "| http://purl.org/sirius/ontology/development/04/data/archive-deterioration | http://purl.org/sirius/ontology/development/04/data/archive | http://purl.org/sirius/ontology/development/04/data/archive-deterioration-a |                 3.5 | Deterioration by exposure to volatile substances released by cardboard boxes is a 'cumulative process' risk. For a period of 30 years, the A-score is A=3½.                                                                                                                |                                                                         |\n",
      "| http://purl.org/sirius/ontology/development/04/data/archive-deterioration | http://purl.org/sirius/ontology/development/04/data/archive | http://purl.org/sirius/ontology/development/04/data/archive-deterioration-b |                 2   | Observations on similar archival collections in the same kind of boxes show a tiny loss of value in each item affected over 30 years.                                                                                                                                      |                                                                         |\n",
      "| http://purl.org/sirius/ontology/development/04/data/archive-deterioration | http://purl.org/sirius/ontology/development/04/data/archive | http://purl.org/sirius/ontology/development/04/data/archive-deterioration-c |                 2   | Only a tiny fraction of the heritage asset value is expected to be affected per event.                                                                                                                                                                                     |                                                                         |\n",
      "| http://purl.org/sirius/ontology/development/04/data/museum-fire           | http://purl.org/sirius/ontology/development/04/data/museum  | http://purl.org/sirius/ontology/development/04/data/museum-fire-a           |                 2.5 | National statistics from different countries show that the average time between large fire events for museums with basic fire control measures is about 300 years. The A-score in this case would be A=2½, indicating an expectation of a large fire once every 300 years. | http://purl.org/sirius/ontology/development/04/data/national-statistics |\n",
      "| http://purl.org/sirius/ontology/development/04/data/museum-fire           | http://purl.org/sirius/ontology/development/04/data/museum  | http://purl.org/sirius/ontology/development/04/data/museum-fire-b           |                 5   | Considering the combustible nature of the museum building and its contents, a total or almost total loss of value is expected in each item affected by the fire.                                                                                                           |                                                                         |\n",
      "| http://purl.org/sirius/ontology/development/04/data/museum-fire           | http://purl.org/sirius/ontology/development/04/data/museum  | http://purl.org/sirius/ontology/development/04/data/museum-fire-c           |                 5   | Given the characteristics of the building and its contents, it is expected that all or most of the heritage asset and its value would be affected in the event of a large fire.                                                                                            |                                                                         |\n",
      "| http://purl.org/sirius/ontology/development/04/data/museum-theft          | http://purl.org/sirius/ontology/development/04/data/museum  | http://purl.org/sirius/ontology/development/04/data/museum-theft-a          |                 3.5 | Staff memory indicates that the collection has suffered 3 theft events affecting objects on display in the past 75 years, estimating an average time of 25 years between theft events.                                                                                     | http://purl.org/sirius/ontology/development/04/data/staff-notes         |\n",
      "| http://purl.org/sirius/ontology/development/04/data/museum-theft          | http://purl.org/sirius/ontology/development/04/data/museum  | http://purl.org/sirius/ontology/development/04/data/museum-theft-b          |                 5   | A stolen item results in a complete loss of value for the museum and its public.                                                                                                                                                                                           |                                                                         |\n",
      "| http://purl.org/sirius/ontology/development/04/data/museum-theft          | http://purl.org/sirius/ontology/development/04/data/museum  | http://purl.org/sirius/ontology/development/04/data/museum-theft-c          |                 2   | The most probable scenario is the opportunistic theft of a small, original object of the collection displayed without protection.                                                                                                                                          |                                                                         |\n",
      "+---------------------------------------------------------------------------+-------------------------------------------------------------+-----------------------------------------------------------------------------+---------------------+----------------------------------------------------------------------------------------------------------------------------------------------------------------------------------------------------------------------------------------------------------------------------+-------------------------------------------------------------------------+\n",
      "CQ_4.2\n",
      "Return the low, probable, and high estimates of the magnitudes of risk for each risk of each heritage asset.\n",
      "\n",
      "+---------------------------------------------------------------------------+-------------------------------------------------------------+----------------+---------------------+-----------------+\n",
      "| risk                                                                      | heritage_asset                                              |   low_estimate |   probable_estimate |   high_estimate |\n",
      "|---------------------------------------------------------------------------+-------------------------------------------------------------+----------------+---------------------+-----------------|\n",
      "| http://purl.org/sirius/ontology/development/04/data/archive-deterioration | http://purl.org/sirius/ontology/development/04/data/archive |              7 |                 7.5 |               8 |\n",
      "| http://purl.org/sirius/ontology/development/04/data/museum-fire           | http://purl.org/sirius/ontology/development/04/data/museum  |             12 |                12.5 |              13 |\n",
      "| http://purl.org/sirius/ontology/development/04/data/museum-theft          | http://purl.org/sirius/ontology/development/04/data/museum  |             10 |                10.5 |              11 |\n",
      "+---------------------------------------------------------------------------+-------------------------------------------------------------+----------------+---------------------+-----------------+\n"
     ]
    }
   ],
   "source": [
    "queries = [(text1, query1),\n",
    "           (text2, query2)\n",
    "           ]\n",
    "\n",
    "g = rdflib.ConjunctiveGraph()\n",
    "g.parse(filename, format=\"turtle\", encoding=\"utf-8\")\n",
    "\n",
    "for query in queries:\n",
    "    q = prepareQuery(query[1])\n",
    "    results = g.query(q)\n",
    "    print(query[0])\n",
    "    table = []\n",
    "    for row in results:\n",
    "        table.append([row[var] for var in results.vars])\n",
    "    print(tabulate(table, headers=results.vars, tablefmt=\"psql\"))"
   ]
  }
 ],
 "metadata": {
  "kernelspec": {
   "display_name": "Python 3 (ipykernel)",
   "language": "python",
   "name": "python3"
  },
  "language_info": {
   "codemirror_mode": {
    "name": "ipython",
    "version": 3
   },
   "file_extension": ".py",
   "mimetype": "text/x-python",
   "name": "python",
   "nbconvert_exporter": "python",
   "pygments_lexer": "ipython3",
   "version": "3.11.2"
  }
 },
 "nbformat": 4,
 "nbformat_minor": 5
}
