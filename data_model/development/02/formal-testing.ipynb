{
 "cells": [
  {
   "cell_type": "code",
   "execution_count": 61,
   "id": "0adc596a",
   "metadata": {},
   "outputs": [],
   "source": [
    "import rdflib\n",
    "from rdflib.plugins.sparql import prepareQuery\n",
    "from tabulate import tabulate"
   ]
  },
  {
   "cell_type": "code",
   "execution_count": 62,
   "id": "c7a6cfa8",
   "metadata": {},
   "outputs": [],
   "source": [
    "filename = \"ABox.ttl\""
   ]
  },
  {
   "cell_type": "code",
   "execution_count": 63,
   "id": "a54b6be8",
   "metadata": {},
   "outputs": [],
   "source": [
    "text1 = '''CQ_2.1\n",
    "What are the textual descriptions assigned to the risks, the agents of deterioration classifying them, and their types?\n",
    "'''\n",
    "\n",
    "query1 = '''\n",
    "PREFIX tbox: <https://w3id.org/sirius/ontology/development/02/schema/>\n",
    "PREFIX abox: <https://w3id.org/sirius/ontology/development/02/data/>\n",
    "\n",
    "SELECT ?risk ?agent_of_deterioration ?risk_type ?risk_summary\n",
    "WHERE {\n",
    "    ?risk_assessment a tbox:IdentificationDescription ;\n",
    "                    tbox:identifies ?risk .\n",
    "    ?risk a tbox:Risk ;\n",
    "        tbox:isClassifiedByAgent ?agent_of_deterioration ;\n",
    "        tbox:isClassifiedByType ?risk_type .\n",
    "    OPTIONAL {\n",
    "        ?risk_assessment tbox:hasNote ?risk_summary .\n",
    "    }\n",
    "}\n",
    "'''"
   ]
  },
  {
   "cell_type": "code",
   "execution_count": 64,
   "id": "ce168037",
   "metadata": {},
   "outputs": [],
   "source": [
    "text2 = '''CQ_2.2\n",
    "Which risks are identified within the layers of the site or region, along with their types, the documents documenting them, and the start and end dates of the time intervals in which they have been identified?\n",
    "'''\n",
    "\n",
    "query2 = '''\n",
    "PREFIX tbox: <https://w3id.org/sirius/ontology/development/02/schema/>\n",
    "PREFIX abox: <https://w3id.org/sirius/ontology/development/02/data/>\n",
    "\n",
    "SELECT ?risk ?risk_type ?document ?start_date ?end_date\n",
    "WHERE {\n",
    "    ?risk_assessment a tbox:IdentificationDescription ;\n",
    "                    tbox:isDocumentedBy ?document ;\n",
    "                    tbox:atTime ?time_interval ;\n",
    "                    tbox:identifies ?risk .\n",
    "    ?time_interval tbox:hasStartDate ?start_date ;\n",
    "                    tbox:hasEndDate ?end_date .\n",
    "    ?risk a tbox:Risk ;\n",
    "            tbox:isClassifiedByType ?risk_type ;\n",
    "            tbox:isClassifiedByLayer ?layer .\n",
    "    FILTER (\n",
    "        ?layer = tbox:site ||\n",
    "        ?layer = tbox:region\n",
    "    )\n",
    "}\n",
    "'''"
   ]
  },
  {
   "cell_type": "code",
   "execution_count": 65,
   "id": "53980eff",
   "metadata": {},
   "outputs": [
    {
     "name": "stdout",
     "output_type": "stream",
     "text": [
      "CQ_2.1\n",
      "Return the textual descriptions assigned to the risks, the agents of deterioration that classify them, and their types.\n",
      "\n",
      "+------------------------------------------------------------------------+-----------------------------------------------------------------------+------------------------------------------------------------------+---------------------------------------------------------------------------------------------------------------------------------------------------------------+\n",
      "| risk                                                                   | agent_of_deterioration                                                | risk_type                                                        | risk_summary                                                                                                                                                  |\n",
      "|------------------------------------------------------------------------+-----------------------------------------------------------------------+------------------------------------------------------------------+---------------------------------------------------------------------------------------------------------------------------------------------------------------|\n",
      "| https://w3id.org/sirius/ontology/development/02/data/baptistery-risk-01 | https://w3id.org/sirius/ontology/development/02/schema/physical-forces | https://w3id.org/sirius/ontology/development/02/schema/cumulative |                                                                                                                                                               |\n",
      "| https://w3id.org/sirius/ontology/development/02/data/baptistery-risk-02 | https://w3id.org/sirius/ontology/development/02/schema/dissociation    | https://w3id.org/sirius/ontology/development/02/schema/rare       | Fragmentation of data related to previous incorrect monitoring and maintenance interventions provokes loss of important information related to the baptistery |\n",
      "| https://w3id.org/sirius/ontology/development/02/data/baptistery-risk-03 | https://w3id.org/sirius/ontology/development/02/schema/pests           | https://w3id.org/sirius/ontology/development/02/schema/common     |                                                                                                                                                               |\n",
      "| https://w3id.org/sirius/ontology/development/02/data/baptistery-risk-04 | https://w3id.org/sirius/ontology/development/02/schema/water           | https://w3id.org/sirius/ontology/development/02/schema/rare       | Floods and heavy rains induce erosion of the baptistery walls                                                                                                 |\n",
      "+------------------------------------------------------------------------+-----------------------------------------------------------------------+------------------------------------------------------------------+---------------------------------------------------------------------------------------------------------------------------------------------------------------+\n",
      "CQ_2.2\n",
      "Return the hazards originating the risk that are related to the agent of deterioration \"Physical forces\".\n",
      "\n",
      "+------------------------------------------------------------------------+--------------------------------------------------------------+----------------------------------------------------------------+---------------------------+---------------------------+\n",
      "| risk                                                                   | risk_type                                                    | document                                                       | start_date                | end_date                  |\n",
      "|------------------------------------------------------------------------+--------------------------------------------------------------+----------------------------------------------------------------+---------------------------+---------------------------|\n",
      "| https://w3id.org/sirius/ontology/development/02/data/baptistery-risk-02 | https://w3id.org/sirius/ontology/development/02/schema/rare   | https://w3id.org/sirius/ontology/development/02/data/document-b | 2020-10-10T00:00:00+00:00 | 2020-10-10T23:59:59+00:00 |\n",
      "| https://w3id.org/sirius/ontology/development/02/data/baptistery-risk-03 | https://w3id.org/sirius/ontology/development/02/schema/common | https://w3id.org/sirius/ontology/development/02/data/document-a | 2020-10-11T00:00:00+00:00 | 2020-10-11T23:59:59+00:00 |\n",
      "| https://w3id.org/sirius/ontology/development/02/data/baptistery-risk-04 | https://w3id.org/sirius/ontology/development/02/schema/rare   | https://w3id.org/sirius/ontology/development/02/data/document-b | 2020-10-10T00:00:00+00:00 | 2020-10-10T23:59:59+00:00 |\n",
      "+------------------------------------------------------------------------+--------------------------------------------------------------+----------------------------------------------------------------+---------------------------+---------------------------+\n"
     ]
    }
   ],
   "source": [
    "queries = [(text1, query1),\n",
    "           (text2, query2)\n",
    "           ]\n",
    "\n",
    "g = rdflib.ConjunctiveGraph()\n",
    "g.parse(filename, format=\"turtle\", encoding=\"utf-8\")\n",
    "\n",
    "for query in queries:\n",
    "    q = prepareQuery(query[1])\n",
    "    results = g.query(q)\n",
    "    print(query[0])\n",
    "    table = []\n",
    "    for row in results:\n",
    "        table.append([row[var] for var in results.vars])\n",
    "    print(tabulate(table, headers=results.vars, tablefmt=\"psql\"))"
   ]
  }
 ],
 "metadata": {
  "kernelspec": {
   "display_name": "Python 3 (ipykernel)",
   "language": "python",
   "name": "python3"
  },
  "language_info": {
   "codemirror_mode": {
    "name": "ipython",
    "version": 3
   },
   "file_extension": ".py",
   "mimetype": "text/x-python",
   "name": "python",
   "nbconvert_exporter": "python",
   "pygments_lexer": "ipython3",
   "version": "3.11.2"
  }
 },
 "nbformat": 4,
 "nbformat_minor": 5
}
