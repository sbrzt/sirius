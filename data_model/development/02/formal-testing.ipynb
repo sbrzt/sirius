{
 "cells": [
  {
   "cell_type": "code",
   "execution_count": 2,
   "id": "0adc596a",
   "metadata": {},
   "outputs": [],
   "source": [
    "import rdflib\n",
    "from rdflib.plugins.sparql import prepareQuery\n",
    "from tabulate import tabulate"
   ]
  },
  {
   "cell_type": "code",
   "execution_count": 3,
   "id": "c7a6cfa8",
   "metadata": {},
   "outputs": [],
   "source": [
    "filename = \"ABox.ttl\""
   ]
  },
  {
   "cell_type": "code",
   "execution_count": 4,
   "id": "a54b6be8",
   "metadata": {},
   "outputs": [],
   "source": [
    "text1 = '''CQ_2.1\n",
    "Return the risk summaries and the agents of deterioration of the risks assigned to the \"Battistero degli Ariani\".\n",
    "'''\n",
    "\n",
    "query1 = '''\n",
    "PREFIX tbox: <http://purl.org/sirius/ontology/development/02/schema/>\n",
    "PREFIX abox: <http://purl.org/sirius/ontology/development/02/data/>\n",
    "\n",
    "SELECT ?risk ?risk_summary ?agent_of_deterioration\n",
    "WHERE {\n",
    "    ?risk_assessment a tbox:RiskAssessment ;\n",
    "                    tbox:assignsRiskTo abox:battistero-degli-ariani ;\n",
    "                    tbox:assigns ?risk .\n",
    "    ?risk a tbox:Risk ;\n",
    "        tbox:hasSummary ?risk_summary ;\n",
    "        tbox:isEmbodiedBy ?agent_of_deterioration .\n",
    "}\n",
    "'''"
   ]
  },
  {
   "cell_type": "code",
   "execution_count": 8,
   "id": "ce168037",
   "metadata": {},
   "outputs": [],
   "source": [
    "text2 = '''CQ_2.2\n",
    "Return the hazards originating the risk that are related to the agent of deterioration \"Physical forces\".\n",
    "'''\n",
    "\n",
    "query2 = '''\n",
    "PREFIX tbox: <http://purl.org/sirius/ontology/development/02/schema/>\n",
    "PREFIX abox: <http://purl.org/sirius/ontology/development/02/data/>\n",
    "\n",
    "SELECT ?risk ?hazard\n",
    "WHERE {\n",
    "    ?risk a tbox:Risk ;\n",
    "            tbox:originatesFrom ?hazard ;\n",
    "            tbox:isEmbodiedBy tbox:physical-forces .\n",
    "}\n",
    "'''"
   ]
  },
  {
   "cell_type": "code",
   "execution_count": 11,
   "id": "e3da2431",
   "metadata": {},
   "outputs": [],
   "source": [
    "text3 = '''CQ_2.3\n",
    "Return the adverse effects of the risk that is related to the agents of deterioration \"Pests\", \"Water\" and \"Fire\".\n",
    "'''\n",
    "\n",
    "query3 = '''\n",
    "PREFIX tbox: <http://purl.org/sirius/ontology/development/02/schema/>\n",
    "PREFIX abox: <http://purl.org/sirius/ontology/development/02/data/>\n",
    "\n",
    "SELECT ?risk ?agent_of_deterioration ?adverse_effect\n",
    "WHERE {\n",
    "    ?risk a tbox:Risk ;\n",
    "            tbox:causes ?adverse_effect ;\n",
    "            tbox:isEmbodiedBy ?agent_of_deterioration .\n",
    "    FILTER (\n",
    "    ?agent_of_deterioration = tbox:pests || \n",
    "    ?agent_of_deterioration = tbox:water || \n",
    "    ?agent_of_deterioration = tbox:fire\n",
    "    )\n",
    "}\n",
    "'''"
   ]
  },
  {
   "cell_type": "code",
   "execution_count": 12,
   "id": "53980eff",
   "metadata": {},
   "outputs": [
    {
     "name": "stdout",
     "output_type": "stream",
     "text": [
      "CQ_2.1\n",
      "Return the risk summaries and the agents of deterioration of the risks assigned to the \"Battistero degli Ariani\".\n",
      "\n",
      "+-------------------------------------------------------------------------------------+---------------------------------------------------------------------------------------------------------------------------------------------------------------+---------------------------------------------------------------------------+\n",
      "| risk                                                                                | risk_summary                                                                                                                                                  | agent_of_deterioration                                                    |\n",
      "|-------------------------------------------------------------------------------------+---------------------------------------------------------------------------------------------------------------------------------------------------------------+---------------------------------------------------------------------------|\n",
      "| http://purl.org/sirius/ontology/development/02/data/battistero-degli-ariani-risk-02 | Fragmentation of data related to previous incorrect monitoring and maintenance interventions provokes loss of important information related to the baptistery | http://purl.org/sirius/ontology/development/02/schema/dissociation        |\n",
      "| http://purl.org/sirius/ontology/development/02/data/battistero-degli-ariani-risk-04 | Floods and heavy rains induce erosion of the baptistery walls                                                                                                 | http://purl.org/sirius/ontology/development/02/schema/water               |\n",
      "| http://purl.org/sirius/ontology/development/02/data/battistero-degli-ariani-risk-06 | Various motivations cause the presence of graffiti and abandonment of objects in the area surrounding the baptistery                                          | http://purl.org/sirius/ontology/development/02/schema/thieves-and-vandals |\n",
      "+-------------------------------------------------------------------------------------+---------------------------------------------------------------------------------------------------------------------------------------------------------------+---------------------------------------------------------------------------+\n",
      "CQ_2.2\n",
      "Return the hazards originating the risk that are related to the agent of deterioration \"Physical forces\".\n",
      "\n",
      "+-------------------------------------------------------------------------------------+---------------------------------------------------------------------------------+\n",
      "| risk                                                                                | hazard                                                                          |\n",
      "|-------------------------------------------------------------------------------------+---------------------------------------------------------------------------------|\n",
      "| http://purl.org/sirius/ontology/development/02/data/battistero-degli-ariani-risk-01 | http://purl.org/sirius/ontology/development/02/schema/civil-works               |\n",
      "| http://purl.org/sirius/ontology/development/02/data/battistero-degli-ariani-risk-01 | http://purl.org/sirius/ontology/development/02/schema/earthquake                |\n",
      "| http://purl.org/sirius/ontology/development/02/data/battistero-degli-ariani-risk-01 | http://purl.org/sirius/ontology/development/02/schema/subsidence                |\n",
      "| http://purl.org/sirius/ontology/development/02/data/battistero-degli-ariani-risk-01 | http://purl.org/sirius/ontology/development/02/schema/traffic-induced-vibration |\n",
      "+-------------------------------------------------------------------------------------+---------------------------------------------------------------------------------+\n",
      "CQ_2.3\n",
      "Return the adverse effects of the risk that is related to the agents of deterioration \"Pests\", \"Water\" and \"Fire\".\n",
      "\n",
      "+-------------------------------------------------------------------------------------+-------------------------------------------------------------+------------------------------------------------------------------+\n",
      "| risk                                                                                | agent_of_deterioration                                      | adverse_effect                                                   |\n",
      "|-------------------------------------------------------------------------------------+-------------------------------------------------------------+------------------------------------------------------------------|\n",
      "| http://purl.org/sirius/ontology/development/02/data/battistero-degli-ariani-risk-03 | http://purl.org/sirius/ontology/development/02/schema/pests | http://purl.org/sirius/ontology/development/02/schema/excrements |\n",
      "| http://purl.org/sirius/ontology/development/02/data/battistero-degli-ariani-risk-03 | http://purl.org/sirius/ontology/development/02/schema/pests | http://purl.org/sirius/ontology/development/02/schema/overgrowth |\n",
      "| http://purl.org/sirius/ontology/development/02/data/battistero-degli-ariani-risk-04 | http://purl.org/sirius/ontology/development/02/schema/water | http://purl.org/sirius/ontology/development/02/schema/corrosion  |\n",
      "+-------------------------------------------------------------------------------------+-------------------------------------------------------------+------------------------------------------------------------------+\n"
     ]
    }
   ],
   "source": [
    "queries = [(text1, query1),\n",
    "           (text2, query2),\n",
    "           (text3, query3)\n",
    "           ]\n",
    "\n",
    "g = rdflib.ConjunctiveGraph()\n",
    "g.parse(filename, format=\"turtle\", encoding=\"utf-8\")\n",
    "\n",
    "for query in queries:\n",
    "    q = prepareQuery(query[1])\n",
    "    results = g.query(q)\n",
    "    print(query[0])\n",
    "    table = []\n",
    "    for row in results:\n",
    "        table.append([row[var] for var in results.vars])\n",
    "    print(tabulate(table, headers=results.vars, tablefmt=\"psql\"))"
   ]
  }
 ],
 "metadata": {
  "kernelspec": {
   "display_name": "Python 3 (ipykernel)",
   "language": "python",
   "name": "python3"
  },
  "language_info": {
   "codemirror_mode": {
    "name": "ipython",
    "version": 3
   },
   "file_extension": ".py",
   "mimetype": "text/x-python",
   "name": "python",
   "nbconvert_exporter": "python",
   "pygments_lexer": "ipython3",
   "version": "3.11.2"
  }
 },
 "nbformat": 4,
 "nbformat_minor": 5
}
