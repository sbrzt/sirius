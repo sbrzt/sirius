{
 "cells": [
  {
   "cell_type": "code",
   "execution_count": 28,
   "id": "0adc596a",
   "metadata": {},
   "outputs": [],
   "source": [
    "import rdflib\n",
    "from rdflib.plugins.sparql import prepareQuery\n",
    "from tabulate import tabulate"
   ]
  },
  {
   "cell_type": "code",
   "execution_count": 29,
   "id": "c7a6cfa8",
   "metadata": {},
   "outputs": [],
   "source": [
    "filename = \"../../data/06/ABox.ttl\""
   ]
  },
  {
   "cell_type": "code",
   "execution_count": 30,
   "id": "a54b6be8",
   "metadata": {},
   "outputs": [],
   "source": [
    "text1 = '''CQ_6.1\n",
    "What are the treatment options developed for each risk? For each option, what are its layer of enclosure, stage of control, capital cost, annual cost, and notes?\n",
    "'''\n",
    "\n",
    "query1 = '''\n",
    "PREFIX hero: <https://w3id.org/sirius/ontology/hero/>\n",
    "\n",
    "SELECT DISTINCT ?option ?note ?layer ?stage ?capital_cost ?annual_cost\n",
    "WHERE {\n",
    "  ?treatment hero:develops ?option .\n",
    "  ?option hero:hasNote ?note ;\n",
    "          hero:isClassifiedByLayer ?layer ;\n",
    "          hero:isClassifiedByControlStage ?stage ;\n",
    "          hero:hasCapitalCost ?capital_cost ;\n",
    "          hero:hasMaintenanceCost ?annual_cost .\n",
    "}\n",
    "'''"
   ]
  },
  {
   "cell_type": "code",
   "execution_count": 31,
   "id": "ce168037",
   "metadata": {},
   "outputs": [],
   "source": [
    "text2 = '''CQ_6.2\n",
    "Which are the treatment options existing in the \"fitting\" layer and at the BLOCK stage of control?\n",
    "'''\n",
    "\n",
    "query2 = '''\n",
    "PREFIX hero: <https://w3id.org/sirius/ontology/hero/>\n",
    "\n",
    "SELECT DISTINCT ?option\n",
    "WHERE {\n",
    "    ?treatment hero:develops ?option .\n",
    "    ?option hero:isClassifiedByLayer hero:fitting ;\n",
    "            hero:isClassifiedByControlStage hero:block .\n",
    "}\n",
    "'''"
   ]
  },
  {
   "cell_type": "code",
   "execution_count": 32,
   "id": "c693339b",
   "metadata": {},
   "outputs": [],
   "source": [
    "text3 = '''CQ_6.3\n",
    "Which are the treatment options with a capital cost higher than 1000 and an annual cost lower than 100?\n",
    "'''\n",
    "\n",
    "query3 = '''\n",
    "PREFIX hero: <https://w3id.org/sirius/ontology/hero/>\n",
    "\n",
    "SELECT ?option ?capital_cost ?annual_cost\n",
    "WHERE {\n",
    "    ?treatment hero:develops ?option .\n",
    "    ?option hero:hasCapitalCost ?capital_cost ;\n",
    "            hero:hasMaintenanceCost ?annual_cost .\n",
    "    FILTER(\n",
    "      ?capital_cost > 1000 &&\n",
    "      ?annual_cost < 100\n",
    "    )\n",
    "}\n",
    "'''"
   ]
  },
  {
   "cell_type": "code",
   "execution_count": 33,
   "id": "1e204a1f",
   "metadata": {},
   "outputs": [],
   "source": [
    "text4 = '''CQ_6.4\n",
    "Which are the treatment options existing in the \"building\" or \"room\" layer and at the AVOID or DETECT stage of control, with a capital cost higher than 50 and an annual cost lower than 50?\n",
    "'''\n",
    "\n",
    "query4 = '''\n",
    "PREFIX hero: <https://w3id.org/sirius/ontology/hero/>\n",
    "\n",
    "SELECT ?option ?note ?layer ?stage ?capital_cost ?annual_cost\n",
    "WHERE {\n",
    "    ?treatment hero:develops ?option .\n",
    "    ?option hero:hasNote ?note ;\n",
    "            hero:isClassifiedByLayer ?layer ;\n",
    "            hero:isClassifiedByControlStage ?stage ;\n",
    "            hero:hasCapitalCost ?capital_cost ;\n",
    "            hero:hasMaintenanceCost ?annual_cost .\n",
    "    FILTER(\n",
    "      (\n",
    "        ?layer = hero:building ||\n",
    "        ?layer = hero:room\n",
    "      ) &&\n",
    "      (\n",
    "        ?stage = hero:avoid ||\n",
    "        ?stage = hero:detect\n",
    "      ) &&\n",
    "      (\n",
    "        ?capital_cost > 50 &&\n",
    "        ?annual_cost < 50\n",
    "      )\n",
    "    )\n",
    "}\n",
    "'''"
   ]
  },
  {
   "cell_type": "code",
   "execution_count": 34,
   "id": "53980eff",
   "metadata": {},
   "outputs": [
    {
     "name": "stdout",
     "output_type": "stream",
     "text": [
      "CQ_6.1\n",
      "What are the treatment options developed for each risk? For each option, what are its layer of enclosure, stage of control, capital cost, annual cost, and notes?\n",
      "\n",
      "+-----------------------------------------------------------------+--------------------------------------------------------------------------------------------------------------------------------------------------------------+------------------------------------------------+----------------------------------------------+----------------+---------------+\n",
      "| option                                                          | note                                                                                                                                                         | layer                                          | stage                                        |   capital_cost |   annual_cost |\n",
      "|-----------------------------------------------------------------+--------------------------------------------------------------------------------------------------------------------------------------------------------------+------------------------------------------------+----------------------------------------------+----------------+---------------|\n",
      "| https://w3id.org/sirius/ontology/data/06/museum-theft-option-01 | Attach the objects to their base (support, BLOCK), with a capital cost of 3000 and an annual cost of 0                                                       | https://w3id.org/sirius/ontology/hero/support  | https://w3id.org/sirius/ontology/hero/block  |           3000 |             0 |\n",
      "| https://w3id.org/sirius/ontology/data/06/museum-theft-option-02 | Display the objects inside showcases (fitting, BLOCK), with a capital cost of 2000 and an annual cost of 100                                                 | https://w3id.org/sirius/ontology/hero/fitting  | https://w3id.org/sirius/ontology/hero/block  |           2000 |           100 |\n",
      "| https://w3id.org/sirius/ontology/data/06/museum-theft-option-03 | Install security cameras in the display rooms (room, DETECT), with a capital cost of 6500 and an annual cost of 50                                           | https://w3id.org/sirius/ontology/hero/room     | https://w3id.org/sirius/ontology/hero/detect |           6500 |            50 |\n",
      "| https://w3id.org/sirius/ontology/data/06/museum-theft-option-04 | Forbid the entrance of visitors carrying bags, backpacks, suitcases inside the museum (building, AVOID), with a capital cost of 100 and an annual cost of 10 | https://w3id.org/sirius/ontology/hero/building | https://w3id.org/sirius/ontology/hero/avoid  |            100 |            10 |\n",
      "+-----------------------------------------------------------------+--------------------------------------------------------------------------------------------------------------------------------------------------------------+------------------------------------------------+----------------------------------------------+----------------+---------------+\n",
      "CQ_6.2\n",
      "Which are the treatment options existing in the \"fitting\" layer and at the BLOCK stage of control?\n",
      "\n",
      "+-----------------------------------------------------------------+\n",
      "| option                                                          |\n",
      "|-----------------------------------------------------------------|\n",
      "| https://w3id.org/sirius/ontology/data/06/museum-theft-option-02 |\n",
      "+-----------------------------------------------------------------+\n",
      "CQ_6.3\n",
      "Which are the treatment options with a capital cost higher than 1000 and an annual cost lower than 100?\n",
      "\n",
      "+-----------------------------------------------------------------+----------------+---------------+\n",
      "| option                                                          |   capital_cost |   annual_cost |\n",
      "|-----------------------------------------------------------------+----------------+---------------|\n",
      "| https://w3id.org/sirius/ontology/data/06/museum-theft-option-01 |           3000 |             0 |\n",
      "| https://w3id.org/sirius/ontology/data/06/museum-theft-option-03 |           6500 |            50 |\n",
      "+-----------------------------------------------------------------+----------------+---------------+\n",
      "CQ_6.4\n",
      "Which are the treatment options existing in the \"building\" or \"room\" layer and at the AVOID or DETECT stage of control, with a capital cost higher than 50 and an annual cost lower than 50?\n",
      "\n",
      "+-----------------------------------------------------------------+--------------------------------------------------------------------------------------------------------------------------------------------------------------+------------------------------------------------+---------------------------------------------+----------------+---------------+\n",
      "| option                                                          | note                                                                                                                                                         | layer                                          | stage                                       |   capital_cost |   annual_cost |\n",
      "|-----------------------------------------------------------------+--------------------------------------------------------------------------------------------------------------------------------------------------------------+------------------------------------------------+---------------------------------------------+----------------+---------------|\n",
      "| https://w3id.org/sirius/ontology/data/06/museum-theft-option-04 | Forbid the entrance of visitors carrying bags, backpacks, suitcases inside the museum (building, AVOID), with a capital cost of 100 and an annual cost of 10 | https://w3id.org/sirius/ontology/hero/building | https://w3id.org/sirius/ontology/hero/avoid |            100 |            10 |\n",
      "+-----------------------------------------------------------------+--------------------------------------------------------------------------------------------------------------------------------------------------------------+------------------------------------------------+---------------------------------------------+----------------+---------------+\n"
     ]
    }
   ],
   "source": [
    "queries = [(text1, query1),\n",
    "           (text2, query2),\n",
    "           (text3, query3),\n",
    "           (text4, query4)\n",
    "           ]\n",
    "\n",
    "g = rdflib.ConjunctiveGraph()\n",
    "g.parse(filename, format=\"turtle\", encoding=\"utf-8\")\n",
    "\n",
    "for query in queries:\n",
    "    q = prepareQuery(query[1])\n",
    "    results = g.query(q)\n",
    "    print(query[0])\n",
    "    table = []\n",
    "    for row in results:\n",
    "        table.append([row[var] for var in results.vars])\n",
    "    print(tabulate(table, headers=results.vars, tablefmt=\"psql\"))"
   ]
  }
 ],
 "metadata": {
  "kernelspec": {
   "display_name": "Python 3 (ipykernel)",
   "language": "python",
   "name": "python3"
  },
  "language_info": {
   "codemirror_mode": {
    "name": "ipython",
    "version": 3
   },
   "file_extension": ".py",
   "mimetype": "text/x-python",
   "name": "python",
   "nbconvert_exporter": "python",
   "pygments_lexer": "ipython3",
   "version": "3.11.2"
  }
 },
 "nbformat": 4,
 "nbformat_minor": 5
}
