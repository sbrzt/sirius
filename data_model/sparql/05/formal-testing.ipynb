{
 "cells": [
  {
   "cell_type": "code",
   "execution_count": 1,
   "id": "0adc596a",
   "metadata": {},
   "outputs": [],
   "source": [
    "import rdflib\n",
    "from rdflib.plugins.sparql import prepareQuery\n",
    "from tabulate import tabulate"
   ]
  },
  {
   "cell_type": "code",
   "execution_count": 2,
   "id": "c7a6cfa8",
   "metadata": {},
   "outputs": [],
   "source": [
    "filename = \"../../data/05/ABox.ttl\""
   ]
  },
  {
   "cell_type": "code",
   "execution_count": 3,
   "id": "a54b6be8",
   "metadata": {},
   "outputs": [],
   "source": [
    "text1 = '''CQ_5.1\n",
    "Return the risks with catastrophic (15-13.5), extreme (13-11.5) or high (11-9.5) priority.\n",
    "'''\n",
    "\n",
    "query1 = '''\n",
    "PREFIX hero: <https://w3id.org/sirius/ontology/hero/>\n",
    "\n",
    "SELECT DISTINCT ?risk ?priority\n",
    "WHERE {\n",
    "  ?evaluation hero:evaluates ?risk ;\n",
    "              hero:hasPriorityLevel ?priority .\n",
    "  FILTER ( \n",
    "      ?priority = hero:catastrophic || \n",
    "      ?priority = hero:extreme ||\n",
    "      ?priority = hero:high\n",
    "  )\n",
    "}\n",
    "\n",
    "'''"
   ]
  },
  {
   "cell_type": "code",
   "execution_count": 4,
   "id": "ce168037",
   "metadata": {},
   "outputs": [],
   "source": [
    "text2 = '''CQ_5.2\n",
    "Return the risks, their priorities, the criterions (and their values) used to set the priorities, the conditions values on which the criterions have been set, and their acceptance levels.\n",
    "'''\n",
    "\n",
    "query2 = '''\n",
    "PREFIX ccs: <https://w3id.org/sirius/ontology/ccs/>\n",
    "PREFIX hero: <https://w3id.org/sirius/ontology/hero/>\n",
    "PREFIX tm: <https://w3id.org/sirius/ontology/tm/>\n",
    "\n",
    "SELECT DISTINCT ?risk ?priority ?criterion ?criterion_value ?condition_value ?acceptance\n",
    "WHERE {\n",
    "    ?evaluation hero:evaluates ?risk ;\n",
    "              hero:hasPriorityLevel ?priority ;\n",
    "              hero:hasAcceptanceLevel ?acceptance ;\n",
    "              ccs:isDeterminedBy ?criterion_setter .\n",
    "    ?criterion_setter ccs:setsCriterion ?criterion ;\n",
    "                      ccs:withCondition ?condition .\n",
    "    ?criterion ?value_property ?criterion_value .\n",
    "    ?condition ccs:hasQuantitativeConditionValue ?condition_value .\n",
    "    FILTER (\n",
    "      ?value_property = hero:hasProbableEstimate ||\n",
    "      ?value_property = hero:hasDegreeOfConfidence\n",
    "    )\n",
    "}\n",
    "'''"
   ]
  },
  {
   "cell_type": "code",
   "execution_count": 5,
   "id": "c693339b",
   "metadata": {},
   "outputs": [],
   "source": [
    "text3 = '''CQ_5.3\n",
    "Return the values of the magnitudes and the uncertainties used as criterions, the values of their conditions, the priorities assigned to their respective risks, and their acceptance levels.\n",
    "'''\n",
    "\n",
    "query3 = '''\n",
    "PREFIX ccs: <https://w3id.org/sirius/ontology/ccs/>\n",
    "PREFIX hero: <https://w3id.org/sirius/ontology/hero/>\n",
    "PREFIX tm: <https://w3id.org/sirius/ontology/tm/>\n",
    "\n",
    "SELECT DISTINCT ?risk ?magnitude_value ?magnitude_condition_value ?uncertainty_value ?uncertainty_condition_value ?priority ?acceptance\n",
    "WHERE {\n",
    "    ?evaluation hero:evaluates ?risk ;\n",
    "              hero:hasPriorityLevel ?priority ;\n",
    "              hero:hasAcceptanceLevel ?acceptance ;\n",
    "              ccs:isDeterminedBy ?magnitude_setter , ?uncertainty_setter .\n",
    "    ?magnitude_setter ccs:setsCriterion ?magnitude ;\n",
    "                      ccs:withCondition ?magnitude_condition .\n",
    "    ?magnitude a hero:Magnitude ;\n",
    "               hero:hasProbableEstimate ?magnitude_value .\n",
    "    ?magnitude_condition ccs:hasQuantitativeConditionValue ?magnitude_condition_value .\n",
    "    ?uncertainty_setter ccs:setsCriterion ?uncertainty ;\n",
    "                      ccs:withCondition ?uncertainty_condition .\n",
    "    ?uncertainty a hero:Uncertainty ;\n",
    "                 hero:hasDegreeOfConfidence ?uncertainty_value .\n",
    "    ?uncertainty_condition ccs:hasQuantitativeConditionValue ?uncertainty_condition_value .\n",
    "}\n",
    "'''"
   ]
  },
  {
   "cell_type": "code",
   "execution_count": 6,
   "id": "53980eff",
   "metadata": {},
   "outputs": [
    {
     "name": "stdout",
     "output_type": "stream",
     "text": [
      "CQ_5.1\n",
      "Return the risks with catastrophic (15-13.5), extreme (13-11.5) or high (11-9.5) priority.\n",
      "\n",
      "+-------------------------------------------------------+-----------------------------------------------+\n",
      "| risk                                                  | priority                                      |\n",
      "|-------------------------------------------------------+-----------------------------------------------|\n",
      "| https://w3id.org/sirius/ontology/data/05/museum-fire  | https://w3id.org/sirius/ontology/hero/extreme |\n",
      "| https://w3id.org/sirius/ontology/data/05/museum-theft | https://w3id.org/sirius/ontology/hero/high    |\n",
      "+-------------------------------------------------------+-----------------------------------------------+\n",
      "CQ_5.2\n",
      "Return the risks, their priorities, the criterions (and their values) used to set the priorities, the conditions values on which the criterions have been set, and their acceptance levels.\n",
      "\n",
      "+---------------------------------------------------------------+-----------------------------------------------+---------------------------------------------------------------------------+-------------------+-------------------+---------------------------------------------------+\n",
      "| risk                                                          | priority                                      | criterion                                                                 |   criterion_value |   condition_value | acceptance                                        |\n",
      "|---------------------------------------------------------------+-----------------------------------------------+---------------------------------------------------------------------------+-------------------+-------------------+---------------------------------------------------|\n",
      "| https://w3id.org/sirius/ontology/data/05/museum-fire          | https://w3id.org/sirius/ontology/hero/extreme | https://w3id.org/sirius/ontology/data/05/museum-fire-mr                   |              12.5 |                10 | https://w3id.org/sirius/ontology/hero/treat-asap  |\n",
      "| https://w3id.org/sirius/ontology/data/05/museum-fire          | https://w3id.org/sirius/ontology/hero/extreme | https://w3id.org/sirius/ontology/data/05/museum-fire-uncertainty          |               1   |                 2 | https://w3id.org/sirius/ontology/hero/treat-asap  |\n",
      "| https://w3id.org/sirius/ontology/data/05/museum-theft         | https://w3id.org/sirius/ontology/hero/high    | https://w3id.org/sirius/ontology/data/05/museum-theft-mr                  |              10.5 |                10 | https://w3id.org/sirius/ontology/hero/review-asap |\n",
      "| https://w3id.org/sirius/ontology/data/05/museum-theft         | https://w3id.org/sirius/ontology/hero/high    | https://w3id.org/sirius/ontology/data/05/museum-theft-uncertainty         |               2.5 |                 2 | https://w3id.org/sirius/ontology/hero/review-asap |\n",
      "| https://w3id.org/sirius/ontology/data/05/museum-deterioration | https://w3id.org/sirius/ontology/hero/low     | https://w3id.org/sirius/ontology/data/05/museum-deterioration-mr          |               7.5 |                10 | https://w3id.org/sirius/ontology/hero/no-action   |\n",
      "| https://w3id.org/sirius/ontology/data/05/museum-deterioration | https://w3id.org/sirius/ontology/hero/low     | https://w3id.org/sirius/ontology/data/05/museum-deterioration-uncertainty |               1   |                 2 | https://w3id.org/sirius/ontology/hero/no-action   |\n",
      "+---------------------------------------------------------------+-----------------------------------------------+---------------------------------------------------------------------------+-------------------+-------------------+---------------------------------------------------+\n",
      "CQ_5.3\n",
      "Return the values of the magnitudes and the uncertainties used as criterions, the values of their conditions, the priorities assigned to their respective risks, and their acceptance levels.\n",
      "\n",
      "+---------------------------------------------------------------+-------------------+-----------------------------+---------------------+-------------------------------+-----------------------------------------------+---------------------------------------------------+\n",
      "| risk                                                          |   magnitude_value |   magnitude_condition_value |   uncertainty_value |   uncertainty_condition_value | priority                                      | acceptance                                        |\n",
      "|---------------------------------------------------------------+-------------------+-----------------------------+---------------------+-------------------------------+-----------------------------------------------+---------------------------------------------------|\n",
      "| https://w3id.org/sirius/ontology/data/05/museum-fire          |              12.5 |                          10 |                 1   |                             2 | https://w3id.org/sirius/ontology/hero/extreme | https://w3id.org/sirius/ontology/hero/treat-asap  |\n",
      "| https://w3id.org/sirius/ontology/data/05/museum-theft         |              10.5 |                          10 |                 2.5 |                             2 | https://w3id.org/sirius/ontology/hero/high    | https://w3id.org/sirius/ontology/hero/review-asap |\n",
      "| https://w3id.org/sirius/ontology/data/05/museum-deterioration |               7.5 |                          10 |                 1   |                             2 | https://w3id.org/sirius/ontology/hero/low     | https://w3id.org/sirius/ontology/hero/no-action   |\n",
      "+---------------------------------------------------------------+-------------------+-----------------------------+---------------------+-------------------------------+-----------------------------------------------+---------------------------------------------------+\n"
     ]
    }
   ],
   "source": [
    "queries = [(text1, query1),\n",
    "           (text2, query2),\n",
    "           (text3, query3)\n",
    "           ]\n",
    "\n",
    "g = rdflib.ConjunctiveGraph()\n",
    "g.parse(filename, format=\"turtle\", encoding=\"utf-8\")\n",
    "\n",
    "for query in queries:\n",
    "    q = prepareQuery(query[1])\n",
    "    results = g.query(q)\n",
    "    print(query[0])\n",
    "    table = []\n",
    "    for row in results:\n",
    "        table.append([row[var] for var in results.vars])\n",
    "    print(tabulate(table, headers=results.vars, tablefmt=\"psql\"))"
   ]
  }
 ],
 "metadata": {
  "kernelspec": {
   "display_name": "Python 3 (ipykernel)",
   "language": "python",
   "name": "python3"
  },
  "language_info": {
   "codemirror_mode": {
    "name": "ipython",
    "version": 3
   },
   "file_extension": ".py",
   "mimetype": "text/x-python",
   "name": "python",
   "nbconvert_exporter": "python",
   "pygments_lexer": "ipython3",
   "version": "3.11.2"
  }
 },
 "nbformat": 4,
 "nbformat_minor": 5
}
