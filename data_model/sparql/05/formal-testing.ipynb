{
 "cells": [
  {
   "cell_type": "code",
   "execution_count": 6,
   "id": "0adc596a",
   "metadata": {},
   "outputs": [],
   "source": [
    "import rdflib\n",
    "from rdflib.plugins.sparql import prepareQuery\n",
    "from tabulate import tabulate"
   ]
  },
  {
   "cell_type": "code",
   "execution_count": 7,
   "id": "c7a6cfa8",
   "metadata": {},
   "outputs": [],
   "source": [
    "filename = \"../../data/05/ABox.ttl\""
   ]
  },
  {
   "cell_type": "code",
   "execution_count": 8,
   "id": "a54b6be8",
   "metadata": {},
   "outputs": [],
   "source": [
    "text1 = '''CQ_5.1\n",
    "Return the assets that are part of the `house` asset and the asset percentage they represent, in descending order.\n",
    "'''\n",
    "\n",
    "query1 = '''\n",
    "PREFIX : <http://purl.org/sirius/ontology/data/05/>\n",
    "PREFIX crm: <http://www.cidoc-crm.org/cidoc-crm/>\n",
    "PREFIX hero: <http://purl.org/sirius/ontology/hero/>\n",
    "\n",
    "SELECT ?asset ?asset_part ?percentage\n",
    "WHERE {\n",
    "  ?asset a crm:E24_Physical_Human-Made_Thing ;\n",
    "        crm:P46_is_composed_of ?asset_part .\n",
    "  ?asset_part hero:representsAssetPercentage ?percentage .\n",
    "}\n",
    "'''"
   ]
  },
  {
   "cell_type": "code",
   "execution_count": 9,
   "id": "ce168037",
   "metadata": {},
   "outputs": [],
   "source": [
    "text2 = '''CQ_5.2\n",
    "Return the assets that are part of the `house` asset and the contributing values assigned to them, along with their score, dimension, aspect, note, documentation, and time interval.\n",
    "'''\n",
    "\n",
    "query2 = '''\n",
    "PREFIX : <http://purl.org/sirius/ontology/data/05/>\n",
    "PREFIX crm: <http://www.cidoc-crm.org/cidoc-crm/>\n",
    "PREFIX hero: <http://purl.org/sirius/ontology/hero/>\n",
    "PREFIX ti: <http://www.ontologydesignpatterns.org/cp/owl/timeinterval.owl#>\n",
    "PREFIX tvc: <http://www.essepuntato.it/2012/04/tvc/>\n",
    "\n",
    "SELECT DISTINCT ?asset_part ?value ?score ?dimension ?aspect ?note ?document ?time_interval_start ?time_interval_end\n",
    "WHERE {\n",
    "    ?asset a crm:E24_Physical_Human-Made_Thing ;\n",
    "            crm:P46_is_composed_of ?asset_part .\n",
    "    ?value_assessment hero:assignsValueTo ?asset_part ;\n",
    "                        hero:assignsValue ?value .\n",
    "    ?value hero:hasScore ?score ;\n",
    "            hero:withDimension ?dimension ;\n",
    "            hero:withinAspect ?aspect ;\n",
    "            hero:hasNote ?note ;\n",
    "            hero:isDocumentedBy ?document ;\n",
    "            tvc:atTime ?time_interval .\n",
    "    ?time_interval ti:hasIntervalStartDate ?time_interval_start ;\n",
    "                    ti:hasIntervalEndDate ?time_interval_end .\n",
    "}\n",
    "'''"
   ]
  },
  {
   "cell_type": "code",
   "execution_count": 10,
   "id": "53980eff",
   "metadata": {},
   "outputs": [
    {
     "name": "stdout",
     "output_type": "stream",
     "text": [
      "CQ_5.1\n",
      "Return the assets that are part of the `house` asset and the asset percentage they represent, in descending order.\n",
      "\n",
      "+-----------------------------------------------+---------------------------------------------------+--------------+\n",
      "| asset                                         | asset_part                                        |   percentage |\n",
      "|-----------------------------------------------+---------------------------------------------------+--------------|\n",
      "| http://purl.org/sirius/ontology/data/05/house | http://purl.org/sirius/ontology/data/05/building  |           50 |\n",
      "| http://purl.org/sirius/ontology/data/05/house | http://purl.org/sirius/ontology/data/05/furniture |           20 |\n",
      "| http://purl.org/sirius/ontology/data/05/house | http://purl.org/sirius/ontology/data/05/mosaics   |           20 |\n",
      "| http://purl.org/sirius/ontology/data/05/house | http://purl.org/sirius/ontology/data/05/paintings |           10 |\n",
      "+-----------------------------------------------+---------------------------------------------------+--------------+\n",
      "CQ_5.2\n",
      "Return the assets that are part of the `house` asset and the contributing values assigned to them, along with their score, dimension, aspect, note, documentation, and time interval.\n",
      "\n",
      "+---------------------------------------------------+--------------------------------------------------+---------+-------------------------------------------------+------------------------------------------------+--------------------------------------------------------------------------------------------------------------------------------------------------------------------------------------------------------------------------+----------------------------------------------------+---------------------------+---------------------------+\n",
      "| asset_part                                        | value                                            |   score | dimension                                       | aspect                                         | note                                                                                                                                                                                                                     | document                                           | time_interval_start       | time_interval_end         |\n",
      "|---------------------------------------------------+--------------------------------------------------+---------+-------------------------------------------------+------------------------------------------------+--------------------------------------------------------------------------------------------------------------------------------------------------------------------------------------------------------------------------+----------------------------------------------------+---------------------------+---------------------------|\n",
      "| http://purl.org/sirius/ontology/data/05/building  | http://purl.org/sirius/ontology/data/05/value-1  |    3.74 | http://purl.org/sirius/ontology/hero/artistic   | http://purl.org/sirius/ontology/hero/form      | With simplicity and minimal manipulation creatively retained and upgraded Kashani's house artistic values.                                                                                                               | http://purl.org/sirius/ontology/data/05/document-a | 2020-11-21T00:00:00+00:00 | 2020-11-21T23:59:59+00:00 |\n",
      "| http://purl.org/sirius/ontology/data/05/building  | http://purl.org/sirius/ontology/data/05/value-2  |    3.33 | http://purl.org/sirius/ontology/hero/historic   | http://purl.org/sirius/ontology/hero/form      | It is an example of a Qajar house which has been refurbished like other contemporary houses based on historical documents and comparative studies.                                                                       | http://purl.org/sirius/ontology/data/05/document-a | 2020-10-19T00:00:00+00:00 | 2020-10-19T23:59:59+00:00 |\n",
      "| http://purl.org/sirius/ontology/data/05/building  | http://purl.org/sirius/ontology/data/05/value-3  |    3.26 | http://purl.org/sirius/ontology/hero/social     | http://purl.org/sirius/ontology/hero/function  | The house design and decoration represents the middle social class in the Qajar era.                                                                                                                                     | http://purl.org/sirius/ontology/data/05/document-a | 2021-01-03T00:00:00+00:00 | 2021-01-03T23:59:59+00:00 |\n",
      "| http://purl.org/sirius/ontology/data/05/furniture | http://purl.org/sirius/ontology/data/05/value-4  |    3.38 | http://purl.org/sirius/ontology/hero/scientific | http://purl.org/sirius/ontology/hero/form      | The remains of the building forms and original shapes are the credible scientific source for recognition typology, structure and the idea of creating spaces in the historic Qajar houses of Kashan.                     | http://purl.org/sirius/ontology/data/05/document-b | 2020-11-21T00:00:00+00:00 | 2020-11-21T23:59:59+00:00 |\n",
      "| http://purl.org/sirius/ontology/data/05/furniture | http://purl.org/sirius/ontology/data/05/value-5  |    3.65 | http://purl.org/sirius/ontology/hero/artistic   | http://purl.org/sirius/ontology/hero/substance | Used Original materials generally had a good condition and new materials used in a simple but innovative way in respect to historical values.                                                                            | http://purl.org/sirius/ontology/data/05/document-b | 2021-01-05T00:00:00+00:00 | 2021-01-05T23:59:59+00:00 |\n",
      "| http://purl.org/sirius/ontology/data/05/mosaics   | http://purl.org/sirius/ontology/data/05/value-6  |    3.75 | http://purl.org/sirius/ontology/hero/historic   | http://purl.org/sirius/ontology/hero/function  | Hotels for temporary residence are selected in accordance with the historical values of the house.                                                                                                                       | http://purl.org/sirius/ontology/data/05/document-b | 2020-12-06T00:00:00+00:00 | 2020-12-06T23:59:59+00:00 |\n",
      "| http://purl.org/sirius/ontology/data/05/mosaics   | http://purl.org/sirius/ontology/data/05/value-7  |    4    | http://purl.org/sirius/ontology/hero/social     | http://purl.org/sirius/ontology/hero/tradition | Taking advantage of professional craftsmen with different specialties played an important role in the construction and restoration of a historic house in Kashan. Weaving workshop has revived this art in Kashan        | http://purl.org/sirius/ontology/data/05/document-c | 2020-11-12T00:00:00+00:00 | 2020-11-12T23:59:59+00:00 |\n",
      "| http://purl.org/sirius/ontology/data/05/mosaics   | http://purl.org/sirius/ontology/data/05/value-8  |    3.57 | http://purl.org/sirius/ontology/hero/scientific | http://purl.org/sirius/ontology/hero/tradition | The principal of scientific techniques and traditional construction process related to the formation period extensively displayed and made it possible to study them and showed traditional textile method to be taught. | http://purl.org/sirius/ontology/data/05/document-c | 2020-10-18T00:00:00+00:00 | 2020-10-18T23:59:59+00:00 |\n",
      "| http://purl.org/sirius/ontology/data/05/paintings | http://purl.org/sirius/ontology/data/05/value-10 |    3.98 | http://purl.org/sirius/ontology/hero/historic   | http://purl.org/sirius/ontology/hero/setting   | It has revived the sense of a Qajar house in Kashan. Representing textile art caused Kashan people to take pride in their historical art.                                                                                | http://purl.org/sirius/ontology/data/05/document-c | 2020-11-21T00:00:00+00:00 | 2020-11-21T23:59:59+00:00 |\n",
      "| http://purl.org/sirius/ontology/data/05/paintings | http://purl.org/sirius/ontology/data/05/value-9  |    4.45 | http://purl.org/sirius/ontology/hero/social     | http://purl.org/sirius/ontology/hero/setting   | Social and security level of the neighborhood has been increased. Reuse prosperity in Kashan caused job creation in construction industry and services.                                                                  | http://purl.org/sirius/ontology/data/05/document-c | 2020-11-21T00:00:00+00:00 | 2020-11-21T23:59:59+00:00 |\n",
      "+---------------------------------------------------+--------------------------------------------------+---------+-------------------------------------------------+------------------------------------------------+--------------------------------------------------------------------------------------------------------------------------------------------------------------------------------------------------------------------------+----------------------------------------------------+---------------------------+---------------------------+\n"
     ]
    }
   ],
   "source": [
    "queries = [(text1, query1),\n",
    "           (text2, query2)\n",
    "           ]\n",
    "\n",
    "g = rdflib.ConjunctiveGraph()\n",
    "g.parse(filename, format=\"turtle\", encoding=\"utf-8\")\n",
    "\n",
    "for query in queries:\n",
    "    q = prepareQuery(query[1])\n",
    "    results = g.query(q)\n",
    "    print(query[0])\n",
    "    table = []\n",
    "    for row in results:\n",
    "        table.append([row[var] for var in results.vars])\n",
    "    print(tabulate(table, headers=results.vars, tablefmt=\"psql\"))"
   ]
  }
 ],
 "metadata": {
  "kernelspec": {
   "display_name": "Python 3 (ipykernel)",
   "language": "python",
   "name": "python3"
  },
  "language_info": {
   "codemirror_mode": {
    "name": "ipython",
    "version": 3
   },
   "file_extension": ".py",
   "mimetype": "text/x-python",
   "name": "python",
   "nbconvert_exporter": "python",
   "pygments_lexer": "ipython3",
   "version": "3.11.2"
  }
 },
 "nbformat": 4,
 "nbformat_minor": 5
}
