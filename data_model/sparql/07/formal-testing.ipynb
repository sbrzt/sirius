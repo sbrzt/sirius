{
 "cells": [
  {
   "cell_type": "code",
   "execution_count": 1,
   "id": "0adc596a",
   "metadata": {},
   "outputs": [],
   "source": [
    "import rdflib\n",
    "from rdflib.plugins.sparql import prepareQuery\n",
    "from tabulate import tabulate"
   ]
  },
  {
   "cell_type": "code",
   "execution_count": 2,
   "id": "c7a6cfa8",
   "metadata": {},
   "outputs": [],
   "source": [
    "filename = \"../../data/07/ABox.ttl\""
   ]
  },
  {
   "cell_type": "code",
   "execution_count": 3,
   "id": "a54b6be8",
   "metadata": {},
   "outputs": [],
   "source": [
    "text1 = '''CQ_7.1\n",
    "What are the steps that are part of the workflow for the risk assessment of the museum? What is their duration? What are the activities they were executed in?\n",
    "'''\n",
    "\n",
    "query1 = '''\n",
    "PREFIX param: <http://www.ontologydesignpatterns.org/cp/owl/parameter.owl#>\n",
    "PREFIX pwo: <http://purl.org/spar/pwo/>\n",
    "PREFIX taskex: <http://www.ontologydesignpatterns.org/cp/owl/taskexecution.owl#>\n",
    "PREFIX time: <http://www.w3.org/2006/time#>\n",
    "\n",
    "SELECT DISTINCT ?step ?duration_value ?activity\n",
    "WHERE {\n",
    "  ?workflow pwo:hasStep ?step .\n",
    "  ?step param:hasParameter ?duration ;\n",
    "    taskex:isExecutedIn ?activity .\n",
    "  ?duration time:days ?duration_value .\n",
    "}\n",
    "'''"
   ]
  },
  {
   "cell_type": "code",
   "execution_count": 4,
   "id": "ce168037",
   "metadata": {},
   "outputs": [],
   "source": [
    "text2 = '''CQ_7.2\n",
    "What are the activities involved in the event executing the workflow? What are the time interval in which they respectively are executed?\n",
    "'''\n",
    "\n",
    "query2 = '''\n",
    "PREFIX pwo: <http://purl.org/spar/pwo/>\n",
    "PREFIX tisit: <http://www.ontologydesignpatterns.org/cp/owl/timeindexedsituation.owl#>\n",
    "PREFIX ti: <http://www.ontologydesignpatterns.org/cp/owl/timeinterval.owl#>\n",
    "\n",
    "SELECT DISTINCT ?activity ?start_date ?end_date\n",
    "WHERE {\n",
    "    ?workflow_execution pwo:involvesActivity ?activity .\n",
    "    ?activity tisit:atTime ?time_interval .\n",
    "    ?time_interval ti:hasIntervalStartDate ?start_date ;\n",
    "      ti:hasIntervalEndDate ?end_date .\n",
    "}\n",
    "'''"
   ]
  },
  {
   "cell_type": "code",
   "execution_count": 5,
   "id": "c693339b",
   "metadata": {},
   "outputs": [],
   "source": [
    "text3 = '''CQ_7.3\n",
    "What does each assessment activity target? What does it assess?\n",
    "'''\n",
    "\n",
    "query3 = '''\n",
    "PREFIX hero: <https://w3id.org/sirius/ontology/hero/>\n",
    "\n",
    "SELECT ?activity ?heritage_asset ?element\n",
    "WHERE {\n",
    "    ?activity hero:targets ?heritage_asset ;\n",
    "      hero:assesses ?element .\n",
    "}\n",
    "'''"
   ]
  },
  {
   "cell_type": "code",
   "execution_count": 6,
   "id": "1e204a1f",
   "metadata": {},
   "outputs": [],
   "source": [
    "text4 = '''CQ_7.4\n",
    "Who participated in each assessment activity? When? What did it target? What did it assess? What is it documented by?\n",
    "'''\n",
    "\n",
    "query4 = '''\n",
    "PREFIX hero: <https://w3id.org/sirius/ontology/hero/>\n",
    "PREFIX partic: <http://www.ontologydesignpatterns.org/cp/owl/participation.owl#>\n",
    "PREFIX tisit: <http://www.ontologydesignpatterns.org/cp/owl/timeindexedsituation.owl#>\n",
    "PREFIX ti: <http://www.ontologydesignpatterns.org/cp/owl/timeinterval.owl#>\n",
    "\n",
    "\n",
    "SELECT ?activity ?agent ?start_date ?end_date ?heritage_asset ?element ?source\n",
    "WHERE {\n",
    "    ?activity partic:hasParticipant ?agent ;\n",
    "      tisit:atTime ?time_interval ;\n",
    "      hero:targets ?heritage_asset ;\n",
    "      hero:assesses ?element .\n",
    "    ?time_interval ti:hasIntervalStartDate ?start_date ;\n",
    "      ti:hasIntervalEndDate ?end_date .\n",
    "    OPTIONAL {\n",
    "      ?activity hero:isDocumentedBy ?source .\n",
    "    }\n",
    "}\n",
    "'''"
   ]
  },
  {
   "cell_type": "code",
   "execution_count": 7,
   "id": "53980eff",
   "metadata": {},
   "outputs": [
    {
     "name": "stdout",
     "output_type": "stream",
     "text": [
      "CQ_7.1\n",
      "What are the steps that are part of the workflow for the risk assessment of the museum? What is their duration? What are the activities they were executed in?\n",
      "\n",
      "+--------------------------------------------------------+------------------+------------------------------------------------------------------+\n",
      "| step                                                   |   duration_value | activity                                                         |\n",
      "|--------------------------------------------------------+------------------+------------------------------------------------------------------|\n",
      "| https://w3id.org/sirius/ontology/data/07/identify-step |               30 | https://w3id.org/sirius/ontology/data/07/identification-activity |\n",
      "| https://w3id.org/sirius/ontology/data/07/analyze-step  |                5 | https://w3id.org/sirius/ontology/data/07/analysis-activity       |\n",
      "| https://w3id.org/sirius/ontology/data/07/evaluate-step |               30 | https://w3id.org/sirius/ontology/data/07/evaluation-activity     |\n",
      "| https://w3id.org/sirius/ontology/data/07/treat-step    |               20 | https://w3id.org/sirius/ontology/data/07/treatment-activity      |\n",
      "+--------------------------------------------------------+------------------+------------------------------------------------------------------+\n",
      "CQ_7.2\n",
      "What are the activities involved in the event executing the workflow? What are the time interval in which they respectively are executed?\n",
      "\n",
      "+-----------------------------------------------------------------------+--------------+------------+\n",
      "| activity                                                              | start_date   | end_date   |\n",
      "|-----------------------------------------------------------------------+--------------+------------|\n",
      "| https://w3id.org/sirius/ontology/data/07/context-description-activity | 2023-01-10   | 2023-01-20 |\n",
      "| https://w3id.org/sirius/ontology/data/07/identification-activity      | 2023-01-20   | 2023-02-20 |\n",
      "| https://w3id.org/sirius/ontology/data/07/analysis-activity            | 2023-02-20   | 2023-02-25 |\n",
      "| https://w3id.org/sirius/ontology/data/07/evaluation-activity          | 2023-02-25   | 2023-03-25 |\n",
      "| https://w3id.org/sirius/ontology/data/07/treatment-activity           | 2023-03-25   | 2023-04-15 |\n",
      "+-----------------------------------------------------------------------+--------------+------------+\n",
      "CQ_7.3\n",
      "What does each assessment activity target? What does it assess?\n",
      "\n",
      "+-----------------------------------------------------------------------+-------------------------------------------------+---------------------------------------------------+\n",
      "| activity                                                              | heritage_asset                                  | element                                           |\n",
      "|-----------------------------------------------------------------------+-------------------------------------------------+---------------------------------------------------|\n",
      "| https://w3id.org/sirius/ontology/data/07/context-description-activity | https://w3id.org/sirius/ontology/data/07/museum | https://w3id.org/sirius/ontology/data/07/value-01 |\n",
      "| https://w3id.org/sirius/ontology/data/07/identification-activity      | https://w3id.org/sirius/ontology/data/07/museum | https://w3id.org/sirius/ontology/data/07/risk-01  |\n",
      "| https://w3id.org/sirius/ontology/data/07/analysis-activity            | https://w3id.org/sirius/ontology/data/07/museum | https://w3id.org/sirius/ontology/data/07/risk-01  |\n",
      "| https://w3id.org/sirius/ontology/data/07/evaluation-activity          | https://w3id.org/sirius/ontology/data/07/museum | https://w3id.org/sirius/ontology/data/07/risk-01  |\n",
      "| https://w3id.org/sirius/ontology/data/07/treatment-activity           | https://w3id.org/sirius/ontology/data/07/museum | https://w3id.org/sirius/ontology/data/07/risk-01  |\n",
      "+-----------------------------------------------------------------------+-------------------------------------------------+---------------------------------------------------+\n",
      "CQ_7.4\n",
      "Who participated in each assessment activity? When? What did it target? What did it assess? What is it documented by?\n",
      "\n",
      "+-----------------------------------------------------------------------+----------------------------------------------------------+--------------+------------+-------------------------------------------------+---------------------------------------------------+-----------------------------------------------------------+\n",
      "| activity                                                              | agent                                                    | start_date   | end_date   | heritage_asset                                  | element                                           | source                                                    |\n",
      "|-----------------------------------------------------------------------+----------------------------------------------------------+--------------+------------+-------------------------------------------------+---------------------------------------------------+-----------------------------------------------------------|\n",
      "| https://w3id.org/sirius/ontology/data/07/context-description-activity | https://w3id.org/sirius/ontology/data/07/marta-cosentini | 2023-01-10   | 2023-01-20 | https://w3id.org/sirius/ontology/data/07/museum | https://w3id.org/sirius/ontology/data/07/value-01 | https://w3id.org/sirius/ontology/data/07/catalogue-record |\n",
      "| https://w3id.org/sirius/ontology/data/07/identification-activity      | https://w3id.org/sirius/ontology/data/07/marta-cosentini | 2023-01-20   | 2023-02-20 | https://w3id.org/sirius/ontology/data/07/museum | https://w3id.org/sirius/ontology/data/07/risk-01  | https://w3id.org/sirius/ontology/data/07/historic-record  |\n",
      "| https://w3id.org/sirius/ontology/data/07/analysis-activity            | https://w3id.org/sirius/ontology/data/07/marta-cosentini | 2023-02-20   | 2023-02-25 | https://w3id.org/sirius/ontology/data/07/museum | https://w3id.org/sirius/ontology/data/07/risk-01  |                                                           |\n",
      "| https://w3id.org/sirius/ontology/data/07/evaluation-activity          | https://w3id.org/sirius/ontology/data/07/marta-cosentini | 2023-02-25   | 2023-03-25 | https://w3id.org/sirius/ontology/data/07/museum | https://w3id.org/sirius/ontology/data/07/risk-01  |                                                           |\n",
      "| https://w3id.org/sirius/ontology/data/07/treatment-activity           | https://w3id.org/sirius/ontology/data/07/marta-cosentini | 2023-03-25   | 2023-04-15 | https://w3id.org/sirius/ontology/data/07/museum | https://w3id.org/sirius/ontology/data/07/risk-01  |                                                           |\n",
      "+-----------------------------------------------------------------------+----------------------------------------------------------+--------------+------------+-------------------------------------------------+---------------------------------------------------+-----------------------------------------------------------+\n"
     ]
    }
   ],
   "source": [
    "queries = [(text1, query1),\n",
    "           (text2, query2),\n",
    "           (text3, query3),\n",
    "           (text4, query4)\n",
    "           ]\n",
    "\n",
    "g = rdflib.ConjunctiveGraph()\n",
    "g.parse(filename, format=\"turtle\", encoding=\"utf-8\")\n",
    "\n",
    "for query in queries:\n",
    "    q = prepareQuery(query[1])\n",
    "    results = g.query(q)\n",
    "    print(query[0])\n",
    "    table = []\n",
    "    for row in results:\n",
    "        table.append([row[var] for var in results.vars])\n",
    "    print(tabulate(table, headers=results.vars, tablefmt=\"psql\"))"
   ]
  }
 ],
 "metadata": {
  "kernelspec": {
   "display_name": "Python 3 (ipykernel)",
   "language": "python",
   "name": "python3"
  },
  "language_info": {
   "codemirror_mode": {
    "name": "ipython",
    "version": 3
   },
   "file_extension": ".py",
   "mimetype": "text/x-python",
   "name": "python",
   "nbconvert_exporter": "python",
   "pygments_lexer": "ipython3",
   "version": "3.11.2"
  }
 },
 "nbformat": 4,
 "nbformat_minor": 5
}
