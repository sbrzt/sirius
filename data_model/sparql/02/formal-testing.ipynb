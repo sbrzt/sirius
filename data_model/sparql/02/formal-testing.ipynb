{
 "cells": [
  {
   "cell_type": "code",
   "execution_count": 16,
   "id": "0adc596a",
   "metadata": {},
   "outputs": [],
   "source": [
    "import rdflib\n",
    "from rdflib.plugins.sparql import prepareQuery\n",
    "from tabulate import tabulate"
   ]
  },
  {
   "cell_type": "code",
   "execution_count": 17,
   "id": "c7a6cfa8",
   "metadata": {},
   "outputs": [],
   "source": [
    "filename = \"../../data/02/ABox.ttl\""
   ]
  },
  {
   "cell_type": "code",
   "execution_count": 18,
   "id": "a54b6be8",
   "metadata": {},
   "outputs": [],
   "source": [
    "text1 = '''CQ_2.1\n",
    "Return the textual descriptions assigned to the risks, the agents of deterioration that classify them, and their types.\n",
    "'''\n",
    "\n",
    "query1 = '''\n",
    "PREFIX hero: <http://purl.org/sirius/ontology/hero/>\n",
    "\n",
    "SELECT ?risk ?agent_of_deterioration ?risk_type ?risk_summary\n",
    "WHERE {\n",
    "    ?risk_assessment a hero:IdentificationDescription ;\n",
    "                    hero:identifies ?risk .\n",
    "    ?risk a hero:Risk ;\n",
    "        hero:isClassifiedByAgent ?agent_of_deterioration ;\n",
    "        hero:isClassifiedByType ?risk_type .\n",
    "    OPTIONAL {\n",
    "        ?risk_assessment hero:hasNote ?risk_summary .\n",
    "    }\n",
    "}\n",
    "'''"
   ]
  },
  {
   "cell_type": "code",
   "execution_count": 19,
   "id": "ce168037",
   "metadata": {},
   "outputs": [],
   "source": [
    "text2 = '''CQ_2.2\n",
    "Return the hazards originating the risk that are related to the agent of deterioration \"Physical forces\".\n",
    "'''\n",
    "\n",
    "query2 = '''\n",
    "PREFIX hero: <http://purl.org/sirius/ontology/hero/>\n",
    "PREFIX ti: <http://www.ontologydesignpatterns.org/cp/owl/timeinterval.owl#>\n",
    "PREFIX tis: <http://ontologydesignpatterns.org/cp/owl/timeindexedsituation.owl#>\n",
    "\n",
    "SELECT ?risk ?risk_type ?document ?start_date ?end_date\n",
    "WHERE {\n",
    "    ?risk_assessment a hero:IdentificationDescription ;\n",
    "                    hero:isDocumentedBy ?document ;\n",
    "                    tis:atTime ?time_interval ;\n",
    "                    hero:identifies ?risk .\n",
    "    ?time_interval ti:hasIntervalStartDate ?start_date ;\n",
    "                    ti:hasIntervalEndDate ?end_date .\n",
    "    ?risk a hero:Risk ;\n",
    "            hero:isClassifiedByType ?risk_type ;\n",
    "            hero:isClassifiedByLayer ?layer .\n",
    "    FILTER (\n",
    "        ?layer = hero:site ||\n",
    "        ?layer = hero:region\n",
    "    )\n",
    "}\n",
    "'''"
   ]
  },
  {
   "cell_type": "code",
   "execution_count": 20,
   "id": "53980eff",
   "metadata": {},
   "outputs": [
    {
     "name": "stdout",
     "output_type": "stream",
     "text": [
      "CQ_2.1\n",
      "Return the textual descriptions assigned to the risks, the agents of deterioration that classify them, and their types.\n",
      "\n",
      "+------------------------------------------------------------+------------------------------------------------------+-------------------------------------------------+---------------------------------------------------------------------------------------------------------------------------------------------------------------+\n",
      "| risk                                                       | agent_of_deterioration                               | risk_type                                       | risk_summary                                                                                                                                                  |\n",
      "|------------------------------------------------------------+------------------------------------------------------+-------------------------------------------------+---------------------------------------------------------------------------------------------------------------------------------------------------------------|\n",
      "| http://purl.org/sirius/ontology/data/02/baptistery-risk-01 | http://purl.org/sirius/ontology/hero/physical-forces | http://purl.org/sirius/ontology/hero/cumulative |                                                                                                                                                               |\n",
      "| http://purl.org/sirius/ontology/data/02/baptistery-risk-02 | http://purl.org/sirius/ontology/hero/dissociation    | http://purl.org/sirius/ontology/hero/rare       | Fragmentation of data related to previous incorrect monitoring and maintenance interventions provokes loss of important information related to the baptistery |\n",
      "| http://purl.org/sirius/ontology/data/02/baptistery-risk-03 | http://purl.org/sirius/ontology/hero/pests           | http://purl.org/sirius/ontology/hero/common     |                                                                                                                                                               |\n",
      "| http://purl.org/sirius/ontology/data/02/baptistery-risk-04 | http://purl.org/sirius/ontology/hero/water           | http://purl.org/sirius/ontology/hero/rare       | Floods and heavy rains induce erosion of the baptistery walls                                                                                                 |\n",
      "+------------------------------------------------------------+------------------------------------------------------+-------------------------------------------------+---------------------------------------------------------------------------------------------------------------------------------------------------------------+\n",
      "CQ_2.2\n",
      "Return the hazards originating the risk that are related to the agent of deterioration \"Physical forces\".\n",
      "\n",
      "+------------------------------------------------------------+---------------------------------------------+----------------------------------------------------+---------------------------+---------------------------+\n",
      "| risk                                                       | risk_type                                   | document                                           | start_date                | end_date                  |\n",
      "|------------------------------------------------------------+---------------------------------------------+----------------------------------------------------+---------------------------+---------------------------|\n",
      "| http://purl.org/sirius/ontology/data/02/baptistery-risk-02 | http://purl.org/sirius/ontology/hero/rare   | http://purl.org/sirius/ontology/data/02/document-b | 2020-10-10T00:00:00+00:00 | 2020-10-10T23:59:59+00:00 |\n",
      "| http://purl.org/sirius/ontology/data/02/baptistery-risk-03 | http://purl.org/sirius/ontology/hero/common | http://purl.org/sirius/ontology/data/02/document-a | 2020-10-11T00:00:00+00:00 | 2020-10-11T23:59:59+00:00 |\n",
      "| http://purl.org/sirius/ontology/data/02/baptistery-risk-04 | http://purl.org/sirius/ontology/hero/rare   | http://purl.org/sirius/ontology/data/02/document-b | 2020-10-10T00:00:00+00:00 | 2020-10-10T23:59:59+00:00 |\n",
      "+------------------------------------------------------------+---------------------------------------------+----------------------------------------------------+---------------------------+---------------------------+\n"
     ]
    }
   ],
   "source": [
    "queries = [(text1, query1),\n",
    "           (text2, query2)\n",
    "           ]\n",
    "\n",
    "g = rdflib.ConjunctiveGraph()\n",
    "g.parse(filename, format=\"turtle\", encoding=\"utf-8\")\n",
    "\n",
    "for query in queries:\n",
    "    q = prepareQuery(query[1])\n",
    "    results = g.query(q)\n",
    "    print(query[0])\n",
    "    table = []\n",
    "    for row in results:\n",
    "        table.append([row[var] for var in results.vars])\n",
    "    print(tabulate(table, headers=results.vars, tablefmt=\"psql\"))"
   ]
  }
 ],
 "metadata": {
  "kernelspec": {
   "display_name": "Python 3 (ipykernel)",
   "language": "python",
   "name": "python3"
  },
  "language_info": {
   "codemirror_mode": {
    "name": "ipython",
    "version": 3
   },
   "file_extension": ".py",
   "mimetype": "text/x-python",
   "name": "python",
   "nbconvert_exporter": "python",
   "pygments_lexer": "ipython3",
   "version": "3.11.2"
  }
 },
 "nbformat": 4,
 "nbformat_minor": 5
}
