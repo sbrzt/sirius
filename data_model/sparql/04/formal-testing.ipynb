{
 "cells": [
  {
   "cell_type": "code",
   "execution_count": 1,
   "id": "0adc596a",
   "metadata": {},
   "outputs": [],
   "source": [
    "import rdflib\n",
    "from rdflib.plugins.sparql import prepareQuery\n",
    "from tabulate import tabulate"
   ]
  },
  {
   "cell_type": "code",
   "execution_count": 2,
   "id": "c7a6cfa8",
   "metadata": {},
   "outputs": [],
   "source": [
    "filename = \"../../data/04/ABox.ttl\""
   ]
  },
  {
   "cell_type": "code",
   "execution_count": 3,
   "id": "a54b6be8",
   "metadata": {},
   "outputs": [],
   "source": [
    "text1 = '''CQ_4.1\n",
    "Return the assets that are part of the `house` asset and the asset percentage they represent, in descending order.\n",
    "'''\n",
    "\n",
    "query1 = '''\n",
    "PREFIX : <https://w3id.org/sirius/ontology/data/04/>\n",
    "PREFIX crm: <http://www.cidoc-crm.org/cidoc-crm/>\n",
    "PREFIX hero: <https://w3id.org/sirius/ontology/hero/>\n",
    "\n",
    "SELECT DISTINCT ?asset ?asset_part ?percentage\n",
    "WHERE {\n",
    "  ?asset a crm:E24_Physical_Human-Made_Thing ;\n",
    "        crm:P46_is_composed_of ?asset_part .\n",
    "  ?value_assessment hero:describes ?asset_part ;\n",
    "                    hero:assessesPercentage ?percentage .\n",
    "}\n",
    "'''"
   ]
  },
  {
   "cell_type": "code",
   "execution_count": 4,
   "id": "ce168037",
   "metadata": {},
   "outputs": [],
   "source": [
    "text2 = '''CQ_4.2\n",
    "Return the assets that are part of the `house` asset and the contributing values assigned to them, along with their score, dimension, aspect, note, documentation, and time interval.\n",
    "'''\n",
    "\n",
    "query2 = '''\n",
    "PREFIX : <https://w3id.org/sirius/ontology/data/04/>\n",
    "PREFIX crm: <http://www.cidoc-crm.org/cidoc-crm/>\n",
    "PREFIX hero: <https://w3id.org/sirius/ontology/hero/>\n",
    "PREFIX ti: <http://www.ontologydesignpatterns.org/cp/owl/timeinterval.owl#>\n",
    "PREFIX tis: <http://ontologydesignpatterns.org/cp/owl/timeindexedsituation.owl#>\n",
    "\n",
    "SELECT DISTINCT ?asset_part ?value ?score ?dimension ?aspect ?note ?document ?time_interval_start ?time_interval_end\n",
    "WHERE {\n",
    "    ?asset a crm:E24_Physical_Human-Made_Thing ;\n",
    "            crm:P46_is_composed_of ?asset_part .\n",
    "    ?value_assessment hero:describes ?asset_part ;\n",
    "                        hero:assigns ?value ;\n",
    "            hero:withinDimension ?dimension ;\n",
    "            hero:withinAspect ?aspect ;\n",
    "            hero:hasNote ?note ;\n",
    "            hero:isDocumentedBy ?document ;\n",
    "            tis:atTime ?time_interval .\n",
    "    ?value hero:hasScore ?score .\n",
    "    ?time_interval ti:hasIntervalStartDate ?time_interval_start ;\n",
    "                    ti:hasIntervalEndDate ?time_interval_end .\n",
    "}\n",
    "'''"
   ]
  },
  {
   "cell_type": "code",
   "execution_count": 5,
   "id": "53980eff",
   "metadata": {},
   "outputs": [
    {
     "name": "stdout",
     "output_type": "stream",
     "text": [
      "CQ_4.1\n",
      "Return the assets that are part of the `house` asset and the asset percentage they represent, in descending order.\n",
      "\n",
      "+-----------------------------------------------+---------------------------------------------------+--------------+\n",
      "| asset                                         | asset_part                                        |   percentage |\n",
      "|-----------------------------------------------+---------------------------------------------------+--------------|\n",
      "| https://w3id.org/sirius/ontology/data/04/house | https://w3id.org/sirius/ontology/data/04/building  |           50 |\n",
      "| https://w3id.org/sirius/ontology/data/04/house | https://w3id.org/sirius/ontology/data/04/furniture |           20 |\n",
      "| https://w3id.org/sirius/ontology/data/04/house | https://w3id.org/sirius/ontology/data/04/mosaics   |           20 |\n",
      "| https://w3id.org/sirius/ontology/data/04/house | https://w3id.org/sirius/ontology/data/04/paintings |           10 |\n",
      "+-----------------------------------------------+---------------------------------------------------+--------------+\n",
      "CQ_4.2\n",
      "Return the assets that are part of the `house` asset and the contributing values assigned to them, along with their score, dimension, aspect, note, documentation, and time interval.\n",
      "\n",
      "+---------------------------------------------------+--------------------------------------------------+---------+-------------------------------------------------+------------------------------------------------+--------------------------------------------------------------------------------------------------------------------------------------------------------------------------------------------------------------------------+----------------------------------------------------+---------------------------+---------------------------+\n",
      "| asset_part                                        | value                                            |   score | dimension                                       | aspect                                         | note                                                                                                                                                                                                                     | document                                           | time_interval_start       | time_interval_end         |\n",
      "|---------------------------------------------------+--------------------------------------------------+---------+-------------------------------------------------+------------------------------------------------+--------------------------------------------------------------------------------------------------------------------------------------------------------------------------------------------------------------------------+----------------------------------------------------+---------------------------+---------------------------|\n",
      "| https://w3id.org/sirius/ontology/data/04/building  | https://w3id.org/sirius/ontology/data/04/value-01 |    3.74 | https://w3id.org/sirius/ontology/hero/artistic   | https://w3id.org/sirius/ontology/hero/form      | With simplicity and minimal manipulation creatively retained and upgraded Kashani's house artistic values.                                                                                                               | https://w3id.org/sirius/ontology/data/04/document-a | 2020-11-21T00:00:00+00:00 | 2020-11-21T23:59:59+00:00 |\n",
      "| https://w3id.org/sirius/ontology/data/04/building  | https://w3id.org/sirius/ontology/data/04/value-02 |    3.33 | https://w3id.org/sirius/ontology/hero/historic   | https://w3id.org/sirius/ontology/hero/form      | It is an example of a Qajar house which has been refurbished like other contemporary houses based on historical documents and comparative studies.                                                                       | https://w3id.org/sirius/ontology/data/04/document-a | 2020-10-19T00:00:00+00:00 | 2020-10-19T23:59:59+00:00 |\n",
      "| https://w3id.org/sirius/ontology/data/04/building  | https://w3id.org/sirius/ontology/data/04/value-03 |    3.26 | https://w3id.org/sirius/ontology/hero/social     | https://w3id.org/sirius/ontology/hero/function  | The house design and decoration represents the middle social class in the Qajar era.                                                                                                                                     | https://w3id.org/sirius/ontology/data/04/document-a | 2021-01-03T00:00:00+00:00 | 2021-01-03T23:59:59+00:00 |\n",
      "| https://w3id.org/sirius/ontology/data/04/furniture | https://w3id.org/sirius/ontology/data/04/value-04 |    3.38 | https://w3id.org/sirius/ontology/hero/scientific | https://w3id.org/sirius/ontology/hero/form      | The remains of the building forms and original shapes are the credible scientific source for recognition typology, structure and the idea of creating spaces in the historic Qajar houses of Kashan.                     | https://w3id.org/sirius/ontology/data/04/document-b | 2020-11-21T00:00:00+00:00 | 2020-11-21T23:59:59+00:00 |\n",
      "| https://w3id.org/sirius/ontology/data/04/furniture | https://w3id.org/sirius/ontology/data/04/value-05 |    3.65 | https://w3id.org/sirius/ontology/hero/artistic   | https://w3id.org/sirius/ontology/hero/substance | Used Original materials generally had a good condition and new materials used in a simple but innovative way in respect to historical values.                                                                            | https://w3id.org/sirius/ontology/data/04/document-b | 2021-01-05T00:00:00+00:00 | 2021-01-05T23:59:59+00:00 |\n",
      "| https://w3id.org/sirius/ontology/data/04/mosaics   | https://w3id.org/sirius/ontology/data/04/value-06 |    3.75 | https://w3id.org/sirius/ontology/hero/historic   | https://w3id.org/sirius/ontology/hero/function  | Hotels for temporary residence are selected in accordance with the historical values of the house.                                                                                                                       | https://w3id.org/sirius/ontology/data/04/document-b | 2020-12-06T00:00:00+00:00 | 2020-12-06T23:59:59+00:00 |\n",
      "| https://w3id.org/sirius/ontology/data/04/mosaics   | https://w3id.org/sirius/ontology/data/04/value-07 |    4    | https://w3id.org/sirius/ontology/hero/social     | https://w3id.org/sirius/ontology/hero/tradition | Taking advantage of professional craftsmen with different specialties played an important role in the construction and restoration of a historic house in Kashan. Weaving workshop has revived this art in Kashan        | https://w3id.org/sirius/ontology/data/04/document-c | 2020-11-12T00:00:00+00:00 | 2020-11-12T23:59:59+00:00 |\n",
      "| https://w3id.org/sirius/ontology/data/04/mosaics   | https://w3id.org/sirius/ontology/data/04/value-08 |    3.57 | https://w3id.org/sirius/ontology/hero/scientific | https://w3id.org/sirius/ontology/hero/tradition | The principal of scientific techniques and traditional construction process related to the formation period extensively displayed and made it possible to study them and showed traditional textile method to be taught. | https://w3id.org/sirius/ontology/data/04/document-c | 2020-10-18T00:00:00+00:00 | 2020-10-18T23:59:59+00:00 |\n",
      "| https://w3id.org/sirius/ontology/data/04/paintings | https://w3id.org/sirius/ontology/data/04/value-10 |    3.98 | https://w3id.org/sirius/ontology/hero/historic   | https://w3id.org/sirius/ontology/hero/setting   | It has revived the sense of a Qajar house in Kashan. Representing textile art caused Kashan people to take pride in their historical art.                                                                                | https://w3id.org/sirius/ontology/data/04/document-c | 2020-11-21T00:00:00+00:00 | 2020-11-21T23:59:59+00:00 |\n",
      "| https://w3id.org/sirius/ontology/data/04/paintings | https://w3id.org/sirius/ontology/data/04/value-09 |    4.45 | https://w3id.org/sirius/ontology/hero/social     | https://w3id.org/sirius/ontology/hero/setting   | Social and security level of the neighborhood has been increased. Reuse prosperity in Kashan caused job creation in construction industry and services.                                                                  | https://w3id.org/sirius/ontology/data/04/document-c | 2020-11-21T00:00:00+00:00 | 2020-11-21T23:59:59+00:00 |\n",
      "+---------------------------------------------------+--------------------------------------------------+---------+-------------------------------------------------+------------------------------------------------+--------------------------------------------------------------------------------------------------------------------------------------------------------------------------------------------------------------------------+----------------------------------------------------+---------------------------+---------------------------+\n"
     ]
    }
   ],
   "source": [
    "queries = [(text1, query1),\n",
    "           (text2, query2)\n",
    "           ]\n",
    "\n",
    "g = rdflib.ConjunctiveGraph()\n",
    "g.parse(filename, format=\"turtle\", encoding=\"utf-8\")\n",
    "\n",
    "for query in queries:\n",
    "    q = prepareQuery(query[1])\n",
    "    results = g.query(q)\n",
    "    print(query[0])\n",
    "    table = []\n",
    "    for row in results:\n",
    "        table.append([row[var] for var in results.vars])\n",
    "    print(tabulate(table, headers=results.vars, tablefmt=\"psql\"))"
   ]
  }
 ],
 "metadata": {
  "kernelspec": {
   "display_name": "Python 3 (ipykernel)",
   "language": "python",
   "name": "python3"
  },
  "language_info": {
   "codemirror_mode": {
    "name": "ipython",
    "version": 3
   },
   "file_extension": ".py",
   "mimetype": "text/x-python",
   "name": "python",
   "nbconvert_exporter": "python",
   "pygments_lexer": "ipython3",
   "version": "3.11.2"
  }
 },
 "nbformat": 4,
 "nbformat_minor": 5
}
