{
 "cells": [
  {
   "cell_type": "code",
   "execution_count": 16,
   "id": "0adc596a",
   "metadata": {},
   "outputs": [],
   "source": [
    "import rdflib\n",
    "from rdflib.plugins.sparql import prepareQuery\n",
    "from tabulate import tabulate"
   ]
  },
  {
   "cell_type": "code",
   "execution_count": 17,
   "id": "c7a6cfa8",
   "metadata": {},
   "outputs": [],
   "source": [
    "filename = \"../../data/03/ABox.ttl\""
   ]
  },
  {
   "cell_type": "code",
   "execution_count": 18,
   "id": "a54b6be8",
   "metadata": {},
   "outputs": [],
   "source": [
    "text1 = '''CQ_3.1\n",
    "Return all the risks with type \"Cumulative process\", the asset they are assiged to, the layers they exist within, and the documents that document them.\n",
    "'''\n",
    "\n",
    "query1 = '''\n",
    "PREFIX hero: <http://purl.org/sirius/ontology/hero/>\n",
    "\n",
    "SELECT ?risk ?asset ?layer ?document\n",
    "WHERE {\n",
    "  ?risk_assessment a hero:RiskAssessment ;\n",
    "                  hero:assignsRisk ?risk ;\n",
    "                  hero:assignsRiskTo ?asset .\n",
    "  ?risk hero:withType hero:cumulative ;\n",
    "        hero:withinLayer ?layer ;\n",
    "        hero:isDocumentedBy ?document .\n",
    "}\n",
    "'''"
   ]
  },
  {
   "cell_type": "code",
   "execution_count": 19,
   "id": "ce168037",
   "metadata": {},
   "outputs": [],
   "source": [
    "text2 = '''CQ_3.2\n",
    "Return all the risks existing with the layers \"Region\" or \"Site\", the asset they are assiged to, their type, and the start and end dates of the time intervals they exist in.\n",
    "'''\n",
    "\n",
    "query2 = '''\n",
    "PREFIX hero: <http://purl.org/sirius/ontology/hero/>\n",
    "PREFIX ti: <http://www.ontologydesignpatterns.org/cp/owl/timeinterval.owl#>\n",
    "PREFIX tvc: <http://www.essepuntato.it/2012/04/tvc/>\n",
    "\n",
    "SELECT ?risk ?asset ?type ?time_interval_start ?time_interval_end\n",
    "WHERE {\n",
    "    ?risk_assessment a hero:RiskAssessment ;\n",
    "                    hero:assignsRisk ?risk ;\n",
    "                    hero:assignsRiskTo ?asset .\n",
    "    ?risk hero:withType ?type ;\n",
    "          hero:withinLayer ?layer ;\n",
    "          tvc:atTime ?time_interval .\n",
    "    ?time_interval ti:hasIntervalStartDate ?time_interval_start ;\n",
    "                  ti:hasIntervalEndDate ?time_interval_end . \n",
    "    FILTER ( ?layer = hero:region || ?layer = hero:site )\n",
    "}\n",
    "'''"
   ]
  },
  {
   "cell_type": "code",
   "execution_count": 20,
   "id": "53980eff",
   "metadata": {},
   "outputs": [
    {
     "name": "stdout",
     "output_type": "stream",
     "text": [
      "CQ_3.1\n",
      "Return all the risks with type \"Cumulative process\", the asset they are assiged to, the layers they exist within, and the documents that document them.\n",
      "\n",
      "+-------------------------------------------------+----------------------------------------------------+-----------------------------------------------+----------------------------------------------------+\n",
      "| risk                                            | asset                                              | layer                                         | document                                           |\n",
      "|-------------------------------------------------+----------------------------------------------------+-----------------------------------------------+----------------------------------------------------|\n",
      "| http://purl.org/sirius/ontology/data/03/risk-01 | http://purl.org/sirius/ontology/data/03/baptistery | http://purl.org/sirius/ontology/hero/building | http://purl.org/sirius/ontology/data/03/document-a |\n",
      "| http://purl.org/sirius/ontology/data/03/risk-06 | http://purl.org/sirius/ontology/data/03/museum     | http://purl.org/sirius/ontology/hero/room     | http://purl.org/sirius/ontology/data/03/document-c |\n",
      "+-------------------------------------------------+----------------------------------------------------+-----------------------------------------------+----------------------------------------------------+\n",
      "CQ_3.2\n",
      "Return all the risks existing with the layers \"Region\" or \"Site\", the asset they are assiged to, their type, and the start and end dates of the time intervals they exist in.\n",
      "\n",
      "+-------------------------------------------------+----------------------------------------------------+---------------------------------------------+---------------------------+---------------------------+\n",
      "| risk                                            | asset                                              | type                                        | time_interval_start       | time_interval_end         |\n",
      "|-------------------------------------------------+----------------------------------------------------+---------------------------------------------+---------------------------+---------------------------|\n",
      "| http://purl.org/sirius/ontology/data/03/risk-02 | http://purl.org/sirius/ontology/data/03/baptistery | http://purl.org/sirius/ontology/hero/rare   | 2020-10-10T00:00:00+00:00 | 2020-10-10T23:59:59+00:00 |\n",
      "| http://purl.org/sirius/ontology/data/03/risk-03 | http://purl.org/sirius/ontology/data/03/baptistery | http://purl.org/sirius/ontology/hero/common | 2020-10-11T00:00:00+00:00 | 2020-10-11T23:59:59+00:00 |\n",
      "| http://purl.org/sirius/ontology/data/03/risk-07 | http://purl.org/sirius/ontology/data/03/museum     | http://purl.org/sirius/ontology/hero/rare   | 2020-10-11T00:00:00+00:00 | 2020-10-11T23:59:59+00:00 |\n",
      "+-------------------------------------------------+----------------------------------------------------+---------------------------------------------+---------------------------+---------------------------+\n"
     ]
    }
   ],
   "source": [
    "queries = [(text1, query1),\n",
    "           (text2, query2)\n",
    "           ]\n",
    "\n",
    "g = rdflib.ConjunctiveGraph()\n",
    "g.parse(filename, format=\"turtle\", encoding=\"utf-8\")\n",
    "\n",
    "for query in queries:\n",
    "    q = prepareQuery(query[1])\n",
    "    results = g.query(q)\n",
    "    print(query[0])\n",
    "    table = []\n",
    "    for row in results:\n",
    "        table.append([row[var] for var in results.vars])\n",
    "    print(tabulate(table, headers=results.vars, tablefmt=\"psql\"))"
   ]
  }
 ],
 "metadata": {
  "kernelspec": {
   "display_name": "Python 3 (ipykernel)",
   "language": "python",
   "name": "python3"
  },
  "language_info": {
   "codemirror_mode": {
    "name": "ipython",
    "version": 3
   },
   "file_extension": ".py",
   "mimetype": "text/x-python",
   "name": "python",
   "nbconvert_exporter": "python",
   "pygments_lexer": "ipython3",
   "version": "3.11.2"
  }
 },
 "nbformat": 4,
 "nbformat_minor": 5
}
